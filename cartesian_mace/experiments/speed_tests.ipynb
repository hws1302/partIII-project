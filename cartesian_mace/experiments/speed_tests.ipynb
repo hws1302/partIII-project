{
 "cells": [
  {
   "cell_type": "code",
   "execution_count": 410,
   "metadata": {
    "collapsed": true
   },
   "outputs": [
    {
     "name": "stdout",
     "output_type": "stream",
     "text": [
      "The autoreload extension is already loaded. To reload it, use:\n",
      "  %reload_ext autoreload\n"
     ]
    }
   ],
   "source": [
    "%load_ext autoreload\n",
    "%autoreload 2\n",
    "\n",
    "import torch\n",
    "import matplotlib.pyplot as plt\n",
    "import networkx as nx\n",
    "import math\n",
    "import random\n",
    "\n",
    "from e3nn import o3\n",
    "from tqdm import tqdm\n",
    "from torch_geometric.datasets import QM9\n",
    "from torch_geometric.utils import to_networkx, to_undirected\n",
    "from torch_geometric.data import Data\n",
    "\n",
    "from cartesian_mace.modules.tensor_contraction_block import CartesianContraction\n",
    "from cartesian_mace.utils.cartesian_contractions import count_contractions, contraction_is_valid\n",
    "from cartesian_mace.models.model import CartesianMACE\n",
    "from src.models import MACEModel\n",
    "from src.modules.symmetric_contraction import Contraction"
   ]
  },
  {
   "cell_type": "markdown",
   "source": [
    "# Testing contraction class performance"
   ],
   "metadata": {
    "collapsed": false
   }
  },
  {
   "cell_type": "code",
   "execution_count": 275,
   "outputs": [],
   "source": [
    "# define some hyperparameters\n",
    "max_ell = 2\n",
    "nu = 4"
   ],
   "metadata": {
    "collapsed": false
   }
  },
  {
   "cell_type": "markdown",
   "source": [
    "In the following cell we are setting up the process for running the equivalent contractions for the two contraction classes (not sure if these expressions/irreps are the same?).\n",
    "\n",
    "We then get an error from the `cg.py` file about a var being referred to before assignment and looking at the `if/elif` statements which need to be true to assign the varaible first we need which doesn't seem to be the case for our 'simple' example\n",
    "\n",
    "```\n",
    "for ir, _, base_o3 in wigners:\n",
    "    if ir in irreps_out and ir == current_ir:\n",
    "```"
   ],
   "metadata": {
    "collapsed": false
   }
  },
  {
   "cell_type": "code",
   "execution_count": 454,
   "outputs": [
    {
     "ename": "UnboundLocalError",
     "evalue": "local variable 'last_ir' referenced before assignment",
     "output_type": "error",
     "traceback": [
      "\u001B[0;31m---------------------------------------------------------------------------\u001B[0m",
      "\u001B[0;31mUnboundLocalError\u001B[0m                         Traceback (most recent call last)",
      "Cell \u001B[0;32mIn[454], line 18\u001B[0m\n\u001B[1;32m     15\u001B[0m irreps_in \u001B[38;5;241m=\u001B[39m o3\u001B[38;5;241m.\u001B[39mIrreps([(\u001B[38;5;241m1\u001B[39m,(n_indices, \u001B[38;5;241m1\u001B[39m))])\n\u001B[1;32m     16\u001B[0m irrep_out \u001B[38;5;241m=\u001B[39m o3\u001B[38;5;241m.\u001B[39mIrreps([(\u001B[38;5;241m1\u001B[39m,(c_out, \u001B[38;5;241m1\u001B[39m))])\n\u001B[0;32m---> 18\u001B[0m spherical_contraction \u001B[38;5;241m=\u001B[39m \u001B[43mContraction\u001B[49m\u001B[43m(\u001B[49m\u001B[43mirreps_in\u001B[49m\u001B[38;5;241;43m=\u001B[39;49m\u001B[43mirreps_in\u001B[49m\u001B[43m,\u001B[49m\u001B[43m \u001B[49m\u001B[43mirrep_out\u001B[49m\u001B[38;5;241;43m=\u001B[39;49m\u001B[43mirrep_out\u001B[49m\u001B[43m,\u001B[49m\u001B[43m \u001B[49m\u001B[43mcorrelation\u001B[49m\u001B[38;5;241;43m=\u001B[39;49m\u001B[38;5;241;43m4\u001B[39;49m\u001B[43m)\u001B[49m \u001B[38;5;66;03m# 'last_ir' referenced before assignment\u001B[39;00m\n",
      "File \u001B[0;32m~/PycharmProjects/geometric-gnn-dojo/src/modules/symmetric_contraction.py:107\u001B[0m, in \u001B[0;36mContraction.__init__\u001B[0;34m(self, irreps_in, irrep_out, correlation, internal_weights, element_dependent, num_elements, weights)\u001B[0m\n\u001B[1;32m    105\u001B[0m dtype \u001B[38;5;241m=\u001B[39m torch\u001B[38;5;241m.\u001B[39mget_default_dtype()\n\u001B[1;32m    106\u001B[0m \u001B[38;5;28;01mfor\u001B[39;00m nu \u001B[38;5;129;01min\u001B[39;00m \u001B[38;5;28mrange\u001B[39m(\u001B[38;5;241m1\u001B[39m, correlation \u001B[38;5;241m+\u001B[39m \u001B[38;5;241m1\u001B[39m):\n\u001B[0;32m--> 107\u001B[0m     U_matrix \u001B[38;5;241m=\u001B[39m \u001B[43mU_matrix_real\u001B[49m\u001B[43m(\u001B[49m\n\u001B[1;32m    108\u001B[0m \u001B[43m        \u001B[49m\u001B[43mirreps_in\u001B[49m\u001B[38;5;241;43m=\u001B[39;49m\u001B[38;5;28;43mself\u001B[39;49m\u001B[38;5;241;43m.\u001B[39;49m\u001B[43mcoupling_irreps\u001B[49m\u001B[43m,\u001B[49m\n\u001B[1;32m    109\u001B[0m \u001B[43m        \u001B[49m\u001B[43mirreps_out\u001B[49m\u001B[38;5;241;43m=\u001B[39;49m\u001B[43mirrep_out\u001B[49m\u001B[43m,\u001B[49m\n\u001B[1;32m    110\u001B[0m \u001B[43m        \u001B[49m\u001B[43mcorrelation\u001B[49m\u001B[38;5;241;43m=\u001B[39;49m\u001B[43mnu\u001B[49m\u001B[43m,\u001B[49m\n\u001B[1;32m    111\u001B[0m \u001B[43m        \u001B[49m\u001B[43mdtype\u001B[49m\u001B[38;5;241;43m=\u001B[39;49m\u001B[43mdtype\u001B[49m\u001B[43m,\u001B[49m\n\u001B[1;32m    112\u001B[0m \u001B[43m    \u001B[49m\u001B[43m)\u001B[49m[\u001B[38;5;241m-\u001B[39m\u001B[38;5;241m1\u001B[39m]\n\u001B[1;32m    113\u001B[0m     \u001B[38;5;28mself\u001B[39m\u001B[38;5;241m.\u001B[39mregister_buffer(\u001B[38;5;124mf\u001B[39m\u001B[38;5;124m\"\u001B[39m\u001B[38;5;124mU_matrix_\u001B[39m\u001B[38;5;132;01m{\u001B[39;00mnu\u001B[38;5;132;01m}\u001B[39;00m\u001B[38;5;124m\"\u001B[39m, U_matrix)\n\u001B[1;32m    115\u001B[0m \u001B[38;5;28;01mif\u001B[39;00m element_dependent:\n\u001B[1;32m    116\u001B[0m     \u001B[38;5;66;03m# Tensor contraction equations\u001B[39;00m\n",
      "File \u001B[0;32m~/PycharmProjects/geometric-gnn-dojo/src/modules/cg.py:132\u001B[0m, in \u001B[0;36mU_matrix_real\u001B[0;34m(irreps_in, irreps_out, correlation, normalization, filter_ir_mid, dtype)\u001B[0m\n\u001B[1;32m    130\u001B[0m     \u001B[38;5;28;01melse\u001B[39;00m:\n\u001B[1;32m    131\u001B[0m         current_ir \u001B[38;5;241m=\u001B[39m ir\n\u001B[0;32m--> 132\u001B[0m out \u001B[38;5;241m+\u001B[39m\u001B[38;5;241m=\u001B[39m [\u001B[43mlast_ir\u001B[49m, stack]\n\u001B[1;32m    133\u001B[0m \u001B[38;5;28;01mreturn\u001B[39;00m out\n",
      "\u001B[0;31mUnboundLocalError\u001B[0m: local variable 'last_ir' referenced before assignment"
     ]
    }
   ],
   "source": [
    "# n_indices: tensor product order\n",
    "# c_out: number of free indices of equivariants\n",
    "# dim: in dimension of the tensors in (this will be changed at some point)\n",
    "n_indices = 6\n",
    "c_out = 0\n",
    "n_channels = 4\n",
    "dim=3\n",
    "\n",
    "\n",
    "cartesian_contraction = CartesianContraction(n_indices=n_indices, c_out=c_out, dim=dim, n_channels=n_channels, split=[n_indices], n_extra_dim=1)\n",
    "# irreps_in: o3.Irreps,\n",
    "# irrep_out: o3.Irreps,\n",
    "# correlation: int,\n",
    "\n",
    "irreps_in = o3.Irreps([(1,(n_indices, 1))])\n",
    "irrep_out = o3.Irreps([(1,(c_out, 1))])\n",
    "\n",
    "spherical_contraction = Contraction(irreps_in=irreps_in, irrep_out=irrep_out, correlation=4) # 'last_ir' referenced before assignment"
   ],
   "metadata": {
    "collapsed": false
   }
  },
  {
   "cell_type": "markdown",
   "source": [
    "Here we just run a loop to get an idea of how quick the Cartesian contraction class is for different numbers of indices"
   ],
   "metadata": {
    "collapsed": false
   }
  },
  {
   "cell_type": "code",
   "execution_count": 426,
   "outputs": [
    {
     "name": "stderr",
     "output_type": "stream",
     "text": [
      "100%|██████████| 5/5 [00:21<00:00,  4.36s/it]"
     ]
    },
    {
     "name": "stdout",
     "output_type": "stream",
     "text": [
      "[1.3752742022853845e-05, 4.625486370038873e-05, 0.00027629996428523947, 0.0022194385699861284, 0.02731072264266134]\n"
     ]
    },
    {
     "name": "stderr",
     "output_type": "stream",
     "text": [
      "\n"
     ]
    }
   ],
   "source": [
    "results = []\n",
    "tensors_out = []\n",
    "n_indices_list = [2,4,6,8,10]\n",
    "\n",
    "for n_indices in tqdm(n_indices_list):\n",
    "\n",
    "    shape = [n_channels] + [dim] * n_indices\n",
    "\n",
    "    tensors_in = torch.randn(shape)\n",
    "\n",
    "    cartesian_contraction = CartesianContraction(n_indices=n_indices, c_out=c_out, dim=dim, n_channels=n_channels, split=[n_indices], n_extra_dim=1)\n",
    "\n",
    "    tensors_out.append(cartesian_contraction([tensors_in]))\n",
    "\n",
    "    timing_result = %timeit -o -q cartesian_contraction([tensors_in])\n",
    "\n",
    "    results.append(timing_result.average)\n",
    "\n",
    "print(results)"
   ],
   "metadata": {
    "collapsed": false
   }
  },
  {
   "cell_type": "code",
   "execution_count": 278,
   "outputs": [
    {
     "data": {
      "text/plain": "<Figure size 640x480 with 1 Axes>",
      "image/png": "[encoded data removed]"
     },
     "metadata": {},
     "output_type": "display_data"
    }
   ],
   "source": [
    "plt.plot(n_indices_list, results)\n",
    "# plt.yscale('log') # combinatorial relationship\n",
    "plt.show()"
   ],
   "metadata": {
    "collapsed": false
   }
  },
  {
   "cell_type": "code",
   "execution_count": 279,
   "outputs": [
    {
     "data": {
      "text/plain": "<Figure size 640x480 with 1 Axes>",
      "image/png": "[encoded data removed]"
     },
     "metadata": {},
     "output_type": "display_data"
    }
   ],
   "source": [
    "# unsurprisingly, the compute increases linearly with # of contractions\n",
    "n_contractions = [count_contractions(n_indices, n_indices/2) for n_indices in n_indices_list]\n",
    "\n",
    "plt.plot(n_contractions, results)\n",
    "plt.show()"
   ],
   "metadata": {
    "collapsed": false
   }
  },
  {
   "cell_type": "code",
   "execution_count": 280,
   "outputs": [
    {
     "data": {
      "text/plain": "True"
     },
     "execution_count": 280,
     "metadata": {},
     "output_type": "execute_result"
    }
   ],
   "source": [
    "n_contractions == [len(out) for out in tensors_out] # nice!"
   ],
   "metadata": {
    "collapsed": false
   }
  },
  {
   "cell_type": "markdown",
   "source": [
    "# Testing model performance\n",
    "\n",
    "Here we can test the model performances of both using the rotational symmetry dataset."
   ],
   "metadata": {
    "collapsed": false
   }
  },
  {
   "cell_type": "code",
   "execution_count": 445,
   "outputs": [],
   "source": [
    "def create_rotsym_envs(fold):\n",
    "    dataset = []\n",
    "\n",
    "    batch = torch.LongTensor([0,0,0,0,0])\n",
    "\n",
    "    # Environment 0\n",
    "    atoms = torch.LongTensor([ 0 ] + [ 0 ] * fold)\n",
    "    edge_index = torch.LongTensor( [ [0] * fold, [i for i in range(1, fold+1)] ] )\n",
    "    x = torch.Tensor([1,0,0])\n",
    "    pos = [\n",
    "        torch.Tensor([0,0,0]),  # origin\n",
    "        x,   # first spoke\n",
    "    ]\n",
    "    for count in range(1, fold):\n",
    "        R = o3.matrix_z(torch.Tensor([2*math.pi/fold * count])).squeeze(0)\n",
    "        pos.append(x @ R.T)\n",
    "    pos = torch.stack(pos)\n",
    "    y = torch.LongTensor([0])  # Label 0\n",
    "    data1 = Data(atoms=atoms, edge_index=edge_index, pos=pos, y=y, batch=batch)\n",
    "    data1.edge_index = to_undirected(data1.edge_index)\n",
    "    dataset.append(data1)\n",
    "\n",
    "    # Environment 1\n",
    "    q = 2*math.pi/(fold + random.randint(1, fold))\n",
    "    assert q < 2*math.pi/fold\n",
    "    Q = o3.matrix_z(torch.Tensor([q])).squeeze(0)\n",
    "    pos = pos @ Q.T\n",
    "    y = torch.LongTensor([1])  # Label 1\n",
    "    data2 = Data(atoms=atoms, edge_index=edge_index, pos=pos, y=y, batch=batch)\n",
    "    data2.edge_index = to_undirected(data2.edge_index)\n",
    "    dataset.append(data2)\n",
    "\n",
    "    return dataset"
   ],
   "metadata": {
    "collapsed": false
   }
  },
  {
   "cell_type": "code",
   "execution_count": 446,
   "outputs": [],
   "source": [
    "data = create_rotsym_envs(fold=4)[0]"
   ],
   "metadata": {
    "collapsed": false
   }
  },
  {
   "cell_type": "code",
   "execution_count": 447,
   "outputs": [],
   "source": [
    "# hyperparams\n",
    "n_channels = 4\n",
    "self_tp_rank_max = 2\n",
    "basis_rank_max = 2\n",
    "dim = 3\n",
    "n_layers = 1\n",
    "nu_max = 1\n",
    "feature_rank_max = 2"
   ],
   "metadata": {
    "collapsed": false
   }
  },
  {
   "cell_type": "code",
   "execution_count": 448,
   "outputs": [
    {
     "name": "stderr",
     "output_type": "stream",
     "text": [
      "  0%|          | 0/4 [00:00<?, ?it/s]/Users/harryshaw/PycharmProjects/geometric-gnn-dojo/venv/lib/python3.9/site-packages/torch/jit/_check.py:181: UserWarning: The TorchScript type system doesn't support instance-level annotations on empty non-base types in `__init__`. Instead, either 1) use a type annotation in the class body, or 2) wrap the type in `torch.jit.Attribute`.\n",
      "  warnings.warn(\"The TorchScript type system doesn't support \"\n",
      "100%|██████████| 4/4 [00:57<00:00, 14.50s/it]\n"
     ]
    }
   ],
   "source": [
    "cmace_results = []\n",
    "mace_results = []\n",
    "\n",
    "# hyperparams\n",
    "n_channels = 4\n",
    "self_tp_rank_max = 2\n",
    "basis_rank_max = 2\n",
    "dim = 3\n",
    "n_layers = 3\n",
    "nu_max = 1\n",
    "feature_rank_max = 2\n",
    "\n",
    "nu_max_list = [1,2,3,4] # max of 5\n",
    "\n",
    "for nu_max in tqdm(nu_max_list):\n",
    "\n",
    "    shape = [n_channels] + [dim] * n_indices\n",
    "\n",
    "    tensors_in = torch.randn(shape)\n",
    "\n",
    "    cartesian_mace = CartesianMACE(\n",
    "        in_dim=2,\n",
    "        self_tp_rank_max=self_tp_rank_max,\n",
    "        basis_rank_max=basis_rank_max,\n",
    "        dim=dim,\n",
    "        num_layers=n_layers,\n",
    "        nu_max=nu_max,\n",
    "        feature_rank_max=feature_rank_max,\n",
    "    )\n",
    "\n",
    "    timing_result = %timeit -o -q cartesian_mace(data)\n",
    "    cmace_results.append(timing_result.average)\n",
    "\n",
    "    mace = MACEModel(\n",
    "        scalar_pred=False,\n",
    "        correlation=nu_max,\n",
    "        num_layers=n_layers,\n",
    "        out_dim=2,\n",
    "        max_ell=self_tp_rank_max,\n",
    "        emb_dim=n_channels,\n",
    "    )\n",
    "\n",
    "    timing_result = %timeit -o -q mace(data)\n",
    "    mace_results.append(timing_result.average)\n",
    "\n"
   ],
   "metadata": {
    "collapsed": false
   }
  },
  {
   "cell_type": "markdown",
   "source": [
    "Here we see `cmace` is much slower than `mace` at large $\\nu$ which is not great!. Why could this be? It seems our model scales a lot worse with $\\nu$ even though it starts off slightly quicker. Reasons this may be:\n",
    "\n",
    "- the number of contractions in the Cartesian basis grows much quicker than in the spherical basis\n",
    "- the scaling of spherical contractions is better than linear (as it is for Cartesian case shown above) -> we will be able to figure this out once we've sorted running the spherical contraction class in isolation\n",
    "- only point of architecture that feels slower is the use of lists of multi-dimensional tensors instead of flattened features (like in MACE) -> perhaps something to talk about in the report (is it possible to contraction in a linearised for i.e. matrix as `(9,)` tensors, I can't see how because contraction is summing over indices.\n",
    "\n",
    "would be interesting to hear your thoughts"
   ],
   "metadata": {
    "collapsed": false
   }
  },
  {
   "cell_type": "code",
   "execution_count": 452,
   "outputs": [
    {
     "data": {
      "text/plain": "<Figure size 640x480 with 1 Axes>",
      "image/png": "[encoded data removed]"
     },
     "metadata": {},
     "output_type": "display_data"
    }
   ],
   "source": [
    "plt.plot(nu_max_list, cmace_results, label='cmace')\n",
    "plt.plot(nu_max_list, mace_results, label='mace')\n",
    "plt.yscale('log')\n",
    "plt.legend()\n",
    "plt.show()"
   ],
   "metadata": {
    "collapsed": false
   }
  },
  {
   "cell_type": "code",
   "execution_count": 455,
   "outputs": [
    {
     "data": {
      "text/plain": "56.247784391379696"
     },
     "execution_count": 455,
     "metadata": {},
     "output_type": "execute_result"
    }
   ],
   "source": [
    "cmace_results[-1]/mace_results[-1] # 56x slower :/"
   ],
   "metadata": {
    "collapsed": false
   }
  },
  {
   "cell_type": "markdown",
   "source": [
    "# Theoretical experiments\n",
    "\n",
    "The rotational symmetry task is finally working! The issue was in how I was aggregating the linearised `h` features at the end. So I've ran all the experiments (apart from $\\ell=10, \\text{fold}=10$) and got the same results as `TFN/MACE`!\n",
    "\n",
    "I am now running the $k$-chains experiment which involves running the model with different numbers of layers. Things just don't seem to work and are very random - not sure if I just need to run for more epochs or what. Will get back to you with more results as and when I get them"
   ],
   "metadata": {
    "collapsed": false
   }
  },
  {
   "cell_type": "code",
   "execution_count": null,
   "outputs": [],
   "source": [],
   "metadata": {
    "collapsed": false
   }
  }
 ],
 "metadata": {
  "kernelspec": {
   "display_name": "Python 3",
   "language": "python",
   "name": "python3"
  },
  "language_info": {
   "codemirror_mode": {
    "name": "ipython",
    "version": 2
   },
   "file_extension": ".py",
   "mimetype": "text/x-python",
   "name": "python",
   "nbconvert_exporter": "python",
   "pygments_lexer": "ipython2",
   "version": "2.7.6"
  }
 },
 "nbformat": 4,
 "nbformat_minor": 0
}
