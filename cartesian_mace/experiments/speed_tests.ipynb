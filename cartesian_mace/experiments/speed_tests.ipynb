{
 "cells": [
  {
   "cell_type": "code",
   "execution_count": 410,
   "metadata": {
    "collapsed": true
   },
   "outputs": [
    {
     "name": "stdout",
     "output_type": "stream",
     "text": [
      "The autoreload extension is already loaded. To reload it, use:\n",
      "  %reload_ext autoreload\n"
     ]
    }
   ],
   "source": [
    "%load_ext autoreload\n",
    "%autoreload 2\n",
    "\n",
    "import torch\n",
    "import matplotlib.pyplot as plt\n",
    "import networkx as nx\n",
    "import math\n",
    "import random\n",
    "\n",
    "from e3nn import o3\n",
    "from tqdm import tqdm\n",
    "from torch_geometric.datasets import QM9\n",
    "from torch_geometric.utils import to_networkx, to_undirected\n",
    "from torch_geometric.data import Data\n",
    "\n",
    "from cartesian_mace.modules.tensor_contraction_block import CartesianContraction\n",
    "from cartesian_mace.utils.cartesian_contractions import count_contractions, contraction_is_valid\n",
    "from cartesian_mace.models.model import CartesianMACE\n",
    "from src.models import MACEModel\n",
    "from src.modules.symmetric_contraction import Contraction"
   ]
  },
  {
   "cell_type": "code",
   "execution_count": 275,
   "outputs": [],
   "source": [
    "# define some hyperparameters\n",
    "max_ell = 2\n",
    "nu = 4"
   ],
   "metadata": {
    "collapsed": false
   }
  },
  {
   "cell_type": "code",
   "execution_count": 276,
   "outputs": [],
   "source": [
    "# n_indices: tensor product order\n",
    "# c_out: number of free indices of equivariants\n",
    "# dim: in dimension of the tensors in (this will be changed at some point)\n",
    "n_indices = 6\n",
    "c_out = 0\n",
    "n_channels = 4\n",
    "dim=3\n",
    "\n",
    "\n",
    "cartesian_contraction = CartesianContraction(n_indices=n_indices, c_out=c_out, dim=dim, n_channels=n_channels, split=[n_indices], n_extra_dim=1)\n",
    "# irreps_in: o3.Irreps,\n",
    "# irrep_out: o3.Irreps,\n",
    "# correlation: int,\n",
    "\n",
    "irreps_in = o3.Irreps([(1,(n_indices, 1))])\n",
    "irrep_out = o3.Irreps([(1,(c_out, 1))])\n",
    "\n",
    "# spherical_contraction = Contraction(irreps_in=irreps_in, irrep_out=irrep_out, correlation=4) # 'last_ir' referenced before assignment"
   ],
   "metadata": {
    "collapsed": false
   }
  },
  {
   "cell_type": "code",
   "execution_count": 293,
   "outputs": [
    {
     "name": "stderr",
     "output_type": "stream",
     "text": [
      "  0%|          | 0/5 [00:02<?, ?it/s]\n"
     ]
    },
    {
     "ename": "KeyboardInterrupt",
     "evalue": "",
     "output_type": "error",
     "traceback": [
      "\u001B[0;31m---------------------------------------------------------------------------\u001B[0m",
      "\u001B[0;31mKeyboardInterrupt\u001B[0m                         Traceback (most recent call last)",
      "Cell \u001B[0;32mIn[293], line 15\u001B[0m\n\u001B[1;32m     11\u001B[0m     cartesian_contraction \u001B[38;5;241m=\u001B[39m CartesianContraction(n_indices\u001B[38;5;241m=\u001B[39mn_indices, c_out\u001B[38;5;241m=\u001B[39mc_out, dim\u001B[38;5;241m=\u001B[39mdim, n_channels\u001B[38;5;241m=\u001B[39mn_channels, split\u001B[38;5;241m=\u001B[39m[n_indices], n_extra_dim\u001B[38;5;241m=\u001B[39m\u001B[38;5;241m1\u001B[39m)\n\u001B[1;32m     13\u001B[0m     tensors_out\u001B[38;5;241m.\u001B[39mappend(cartesian_contraction([tensors_in]))\n\u001B[0;32m---> 15\u001B[0m     timing_result \u001B[38;5;241m=\u001B[39m \u001B[43mget_ipython\u001B[49m\u001B[43m(\u001B[49m\u001B[43m)\u001B[49m\u001B[38;5;241;43m.\u001B[39;49m\u001B[43mrun_line_magic\u001B[49m\u001B[43m(\u001B[49m\u001B[38;5;124;43m'\u001B[39;49m\u001B[38;5;124;43mtimeit\u001B[39;49m\u001B[38;5;124;43m'\u001B[39;49m\u001B[43m,\u001B[49m\u001B[43m \u001B[49m\u001B[38;5;124;43m'\u001B[39;49m\u001B[38;5;124;43m-o -q cartesian_contraction([tensors_in])\u001B[39;49m\u001B[38;5;124;43m'\u001B[39;49m\u001B[43m)\u001B[49m\n\u001B[1;32m     17\u001B[0m     results\u001B[38;5;241m.\u001B[39mappend(timing_result\u001B[38;5;241m.\u001B[39maverage)\n\u001B[1;32m     19\u001B[0m \u001B[38;5;28mprint\u001B[39m(results)\n",
      "File \u001B[0;32m~/PycharmProjects/geometric-gnn-dojo/venv/lib/python3.9/site-packages/IPython/core/interactiveshell.py:2369\u001B[0m, in \u001B[0;36mInteractiveShell.run_line_magic\u001B[0;34m(self, magic_name, line, _stack_depth)\u001B[0m\n\u001B[1;32m   2367\u001B[0m     kwargs[\u001B[38;5;124m'\u001B[39m\u001B[38;5;124mlocal_ns\u001B[39m\u001B[38;5;124m'\u001B[39m] \u001B[38;5;241m=\u001B[39m \u001B[38;5;28mself\u001B[39m\u001B[38;5;241m.\u001B[39mget_local_scope(stack_depth)\n\u001B[1;32m   2368\u001B[0m \u001B[38;5;28;01mwith\u001B[39;00m \u001B[38;5;28mself\u001B[39m\u001B[38;5;241m.\u001B[39mbuiltin_trap:\n\u001B[0;32m-> 2369\u001B[0m     result \u001B[38;5;241m=\u001B[39m \u001B[43mfn\u001B[49m\u001B[43m(\u001B[49m\u001B[38;5;241;43m*\u001B[39;49m\u001B[43margs\u001B[49m\u001B[43m,\u001B[49m\u001B[43m \u001B[49m\u001B[38;5;241;43m*\u001B[39;49m\u001B[38;5;241;43m*\u001B[39;49m\u001B[43mkwargs\u001B[49m\u001B[43m)\u001B[49m\n\u001B[1;32m   2371\u001B[0m \u001B[38;5;66;03m# The code below prevents the output from being displayed\u001B[39;00m\n\u001B[1;32m   2372\u001B[0m \u001B[38;5;66;03m# when using magics with decodator @output_can_be_silenced\u001B[39;00m\n\u001B[1;32m   2373\u001B[0m \u001B[38;5;66;03m# when the last Python token in the expression is a ';'.\u001B[39;00m\n\u001B[1;32m   2374\u001B[0m \u001B[38;5;28;01mif\u001B[39;00m \u001B[38;5;28mgetattr\u001B[39m(fn, magic\u001B[38;5;241m.\u001B[39mMAGIC_OUTPUT_CAN_BE_SILENCED, \u001B[38;5;28;01mFalse\u001B[39;00m):\n",
      "File \u001B[0;32m~/PycharmProjects/geometric-gnn-dojo/venv/lib/python3.9/site-packages/IPython/core/magics/execution.py:1167\u001B[0m, in \u001B[0;36mExecutionMagics.timeit\u001B[0;34m(self, line, cell, local_ns)\u001B[0m\n\u001B[1;32m   1164\u001B[0m         \u001B[38;5;28;01mif\u001B[39;00m time_number \u001B[38;5;241m>\u001B[39m\u001B[38;5;241m=\u001B[39m \u001B[38;5;241m0.2\u001B[39m:\n\u001B[1;32m   1165\u001B[0m             \u001B[38;5;28;01mbreak\u001B[39;00m\n\u001B[0;32m-> 1167\u001B[0m all_runs \u001B[38;5;241m=\u001B[39m \u001B[43mtimer\u001B[49m\u001B[38;5;241;43m.\u001B[39;49m\u001B[43mrepeat\u001B[49m\u001B[43m(\u001B[49m\u001B[43mrepeat\u001B[49m\u001B[43m,\u001B[49m\u001B[43m \u001B[49m\u001B[43mnumber\u001B[49m\u001B[43m)\u001B[49m\n\u001B[1;32m   1168\u001B[0m best \u001B[38;5;241m=\u001B[39m \u001B[38;5;28mmin\u001B[39m(all_runs) \u001B[38;5;241m/\u001B[39m number\n\u001B[1;32m   1169\u001B[0m worst \u001B[38;5;241m=\u001B[39m \u001B[38;5;28mmax\u001B[39m(all_runs) \u001B[38;5;241m/\u001B[39m number\n",
      "File \u001B[0;32m/Library/Developer/CommandLineTools/Library/Frameworks/Python3.framework/Versions/3.9/lib/python3.9/timeit.py:205\u001B[0m, in \u001B[0;36mTimer.repeat\u001B[0;34m(self, repeat, number)\u001B[0m\n\u001B[1;32m    203\u001B[0m r \u001B[38;5;241m=\u001B[39m []\n\u001B[1;32m    204\u001B[0m \u001B[38;5;28;01mfor\u001B[39;00m i \u001B[38;5;129;01min\u001B[39;00m \u001B[38;5;28mrange\u001B[39m(repeat):\n\u001B[0;32m--> 205\u001B[0m     t \u001B[38;5;241m=\u001B[39m \u001B[38;5;28;43mself\u001B[39;49m\u001B[38;5;241;43m.\u001B[39;49m\u001B[43mtimeit\u001B[49m\u001B[43m(\u001B[49m\u001B[43mnumber\u001B[49m\u001B[43m)\u001B[49m\n\u001B[1;32m    206\u001B[0m     r\u001B[38;5;241m.\u001B[39mappend(t)\n\u001B[1;32m    207\u001B[0m \u001B[38;5;28;01mreturn\u001B[39;00m r\n",
      "File \u001B[0;32m~/PycharmProjects/geometric-gnn-dojo/venv/lib/python3.9/site-packages/IPython/core/magics/execution.py:157\u001B[0m, in \u001B[0;36mTimer.timeit\u001B[0;34m(self, number)\u001B[0m\n\u001B[1;32m    155\u001B[0m gc\u001B[38;5;241m.\u001B[39mdisable()\n\u001B[1;32m    156\u001B[0m \u001B[38;5;28;01mtry\u001B[39;00m:\n\u001B[0;32m--> 157\u001B[0m     timing \u001B[38;5;241m=\u001B[39m \u001B[38;5;28;43mself\u001B[39;49m\u001B[38;5;241;43m.\u001B[39;49m\u001B[43minner\u001B[49m\u001B[43m(\u001B[49m\u001B[43mit\u001B[49m\u001B[43m,\u001B[49m\u001B[43m \u001B[49m\u001B[38;5;28;43mself\u001B[39;49m\u001B[38;5;241;43m.\u001B[39;49m\u001B[43mtimer\u001B[49m\u001B[43m)\u001B[49m\n\u001B[1;32m    158\u001B[0m \u001B[38;5;28;01mfinally\u001B[39;00m:\n\u001B[1;32m    159\u001B[0m     \u001B[38;5;28;01mif\u001B[39;00m gcold:\n",
      "File \u001B[0;32m<magic-timeit>:1\u001B[0m, in \u001B[0;36minner\u001B[0;34m(_it, _timer)\u001B[0m\n",
      "File \u001B[0;32m~/PycharmProjects/geometric-gnn-dojo/venv/lib/python3.9/site-packages/torch/nn/modules/module.py:1194\u001B[0m, in \u001B[0;36mModule._call_impl\u001B[0;34m(self, *input, **kwargs)\u001B[0m\n\u001B[1;32m   1190\u001B[0m \u001B[38;5;66;03m# If we don't have any hooks, we want to skip the rest of the logic in\u001B[39;00m\n\u001B[1;32m   1191\u001B[0m \u001B[38;5;66;03m# this function, and just call forward.\u001B[39;00m\n\u001B[1;32m   1192\u001B[0m \u001B[38;5;28;01mif\u001B[39;00m \u001B[38;5;129;01mnot\u001B[39;00m (\u001B[38;5;28mself\u001B[39m\u001B[38;5;241m.\u001B[39m_backward_hooks \u001B[38;5;129;01mor\u001B[39;00m \u001B[38;5;28mself\u001B[39m\u001B[38;5;241m.\u001B[39m_forward_hooks \u001B[38;5;129;01mor\u001B[39;00m \u001B[38;5;28mself\u001B[39m\u001B[38;5;241m.\u001B[39m_forward_pre_hooks \u001B[38;5;129;01mor\u001B[39;00m _global_backward_hooks\n\u001B[1;32m   1193\u001B[0m         \u001B[38;5;129;01mor\u001B[39;00m _global_forward_hooks \u001B[38;5;129;01mor\u001B[39;00m _global_forward_pre_hooks):\n\u001B[0;32m-> 1194\u001B[0m     \u001B[38;5;28;01mreturn\u001B[39;00m \u001B[43mforward_call\u001B[49m\u001B[43m(\u001B[49m\u001B[38;5;241;43m*\u001B[39;49m\u001B[38;5;28;43minput\u001B[39;49m\u001B[43m,\u001B[49m\u001B[43m \u001B[49m\u001B[38;5;241;43m*\u001B[39;49m\u001B[38;5;241;43m*\u001B[39;49m\u001B[43mkwargs\u001B[49m\u001B[43m)\u001B[49m\n\u001B[1;32m   1195\u001B[0m \u001B[38;5;66;03m# Do not call functions when jit is used\u001B[39;00m\n\u001B[1;32m   1196\u001B[0m full_backward_hooks, non_full_backward_hooks \u001B[38;5;241m=\u001B[39m [], []\n",
      "File \u001B[0;32m~/PycharmProjects/geometric-gnn-dojo/cartesian_mace/modules/tensor_contraction_block.py:119\u001B[0m, in \u001B[0;36mCartesianContraction.forward\u001B[0;34m(self, tensors_in)\u001B[0m\n\u001B[1;32m    115\u001B[0m tensors_out \u001B[38;5;241m=\u001B[39m []\n\u001B[1;32m    117\u001B[0m \u001B[38;5;28;01mfor\u001B[39;00m einsum \u001B[38;5;129;01min\u001B[39;00m \u001B[38;5;28mself\u001B[39m\u001B[38;5;241m.\u001B[39meinsums:\n\u001B[1;32m    118\u001B[0m     \u001B[38;5;66;03m# ** comment on shape here, things may change so look to change in future\u001B[39;00m\n\u001B[0;32m--> 119\u001B[0m     tensors_out\u001B[38;5;241m.\u001B[39mappend(\u001B[38;5;28;43mself\u001B[39;49m\u001B[38;5;241;43m.\u001B[39;49m\u001B[43mbuffer\u001B[49m\u001B[43m[\u001B[49m\u001B[43meinsum\u001B[49m\u001B[43m]\u001B[49m\u001B[43m(\u001B[49m\u001B[38;5;241;43m*\u001B[39;49m\u001B[43mtensors_in\u001B[49m\u001B[43m)\u001B[49m)\n\u001B[1;32m    121\u001B[0m \u001B[38;5;28;01mreturn\u001B[39;00m tensors_out\n",
      "File \u001B[0;32m~/PycharmProjects/geometric-gnn-dojo/venv/lib/python3.9/site-packages/opt_einsum/contract.py:763\u001B[0m, in \u001B[0;36mContractExpression.__call__\u001B[0;34m(self, *arrays, **kwargs)\u001B[0m\n\u001B[1;32m    760\u001B[0m     \u001B[38;5;28;01mif\u001B[39;00m backends\u001B[38;5;241m.\u001B[39mhas_backend(backend) \u001B[38;5;129;01mand\u001B[39;00m \u001B[38;5;28mall\u001B[39m(\u001B[38;5;28misinstance\u001B[39m(x, np\u001B[38;5;241m.\u001B[39mndarray) \u001B[38;5;28;01mfor\u001B[39;00m x \u001B[38;5;129;01min\u001B[39;00m arrays):\n\u001B[1;32m    761\u001B[0m         \u001B[38;5;28;01mreturn\u001B[39;00m \u001B[38;5;28mself\u001B[39m\u001B[38;5;241m.\u001B[39m_contract_with_conversion(ops, out, backend, evaluate_constants\u001B[38;5;241m=\u001B[39mevaluate_constants)\n\u001B[0;32m--> 763\u001B[0m     \u001B[38;5;28;01mreturn\u001B[39;00m \u001B[38;5;28;43mself\u001B[39;49m\u001B[38;5;241;43m.\u001B[39;49m\u001B[43m_contract\u001B[49m\u001B[43m(\u001B[49m\u001B[43mops\u001B[49m\u001B[43m,\u001B[49m\u001B[43m \u001B[49m\u001B[43mout\u001B[49m\u001B[43m,\u001B[49m\u001B[43m \u001B[49m\u001B[43mbackend\u001B[49m\u001B[43m,\u001B[49m\u001B[43m \u001B[49m\u001B[43mevaluate_constants\u001B[49m\u001B[38;5;241;43m=\u001B[39;49m\u001B[43mevaluate_constants\u001B[49m\u001B[43m)\u001B[49m\n\u001B[1;32m    765\u001B[0m \u001B[38;5;28;01mexcept\u001B[39;00m \u001B[38;5;167;01mValueError\u001B[39;00m \u001B[38;5;28;01mas\u001B[39;00m err:\n\u001B[1;32m    766\u001B[0m     original_msg \u001B[38;5;241m=\u001B[39m \u001B[38;5;28mstr\u001B[39m(err\u001B[38;5;241m.\u001B[39margs) \u001B[38;5;28;01mif\u001B[39;00m err\u001B[38;5;241m.\u001B[39margs \u001B[38;5;28;01melse\u001B[39;00m \u001B[38;5;124m\"\u001B[39m\u001B[38;5;124m\"\u001B[39m\n",
      "File \u001B[0;32m~/PycharmProjects/geometric-gnn-dojo/venv/lib/python3.9/site-packages/opt_einsum/contract.py:693\u001B[0m, in \u001B[0;36mContractExpression._contract\u001B[0;34m(self, arrays, out, backend, evaluate_constants)\u001B[0m\n\u001B[1;32m    689\u001B[0m \u001B[38;5;250m\u001B[39m\u001B[38;5;124;03m\"\"\"The normal, core contraction.\u001B[39;00m\n\u001B[1;32m    690\u001B[0m \u001B[38;5;124;03m\"\"\"\u001B[39;00m\n\u001B[1;32m    691\u001B[0m contraction_list \u001B[38;5;241m=\u001B[39m \u001B[38;5;28mself\u001B[39m\u001B[38;5;241m.\u001B[39m_full_contraction_list \u001B[38;5;28;01mif\u001B[39;00m evaluate_constants \u001B[38;5;28;01melse\u001B[39;00m \u001B[38;5;28mself\u001B[39m\u001B[38;5;241m.\u001B[39mcontraction_list\n\u001B[0;32m--> 693\u001B[0m \u001B[38;5;28;01mreturn\u001B[39;00m \u001B[43m_core_contract\u001B[49m\u001B[43m(\u001B[49m\u001B[38;5;28;43mlist\u001B[39;49m\u001B[43m(\u001B[49m\u001B[43marrays\u001B[49m\u001B[43m)\u001B[49m\u001B[43m,\u001B[49m\n\u001B[1;32m    694\u001B[0m \u001B[43m                      \u001B[49m\u001B[43mcontraction_list\u001B[49m\u001B[43m,\u001B[49m\n\u001B[1;32m    695\u001B[0m \u001B[43m                      \u001B[49m\u001B[43mout\u001B[49m\u001B[38;5;241;43m=\u001B[39;49m\u001B[43mout\u001B[49m\u001B[43m,\u001B[49m\n\u001B[1;32m    696\u001B[0m \u001B[43m                      \u001B[49m\u001B[43mbackend\u001B[49m\u001B[38;5;241;43m=\u001B[39;49m\u001B[43mbackend\u001B[49m\u001B[43m,\u001B[49m\n\u001B[1;32m    697\u001B[0m \u001B[43m                      \u001B[49m\u001B[43mevaluate_constants\u001B[49m\u001B[38;5;241;43m=\u001B[39;49m\u001B[43mevaluate_constants\u001B[49m\u001B[43m,\u001B[49m\n\u001B[1;32m    698\u001B[0m \u001B[43m                      \u001B[49m\u001B[38;5;241;43m*\u001B[39;49m\u001B[38;5;241;43m*\u001B[39;49m\u001B[38;5;28;43mself\u001B[39;49m\u001B[38;5;241;43m.\u001B[39;49m\u001B[43meinsum_kwargs\u001B[49m\u001B[43m)\u001B[49m\n",
      "File \u001B[0;32m~/PycharmProjects/geometric-gnn-dojo/venv/lib/python3.9/site-packages/opt_einsum/contract.py:591\u001B[0m, in \u001B[0;36m_core_contract\u001B[0;34m(operands, contraction_list, backend, evaluate_constants, **einsum_kwargs)\u001B[0m\n\u001B[1;32m    588\u001B[0m         einsum_kwargs[\u001B[38;5;124m\"\u001B[39m\u001B[38;5;124mout\u001B[39m\u001B[38;5;124m\"\u001B[39m] \u001B[38;5;241m=\u001B[39m out_array\n\u001B[1;32m    590\u001B[0m     \u001B[38;5;66;03m# Do the contraction\u001B[39;00m\n\u001B[0;32m--> 591\u001B[0m     new_view \u001B[38;5;241m=\u001B[39m \u001B[43m_einsum\u001B[49m\u001B[43m(\u001B[49m\u001B[43meinsum_str\u001B[49m\u001B[43m,\u001B[49m\u001B[43m \u001B[49m\u001B[38;5;241;43m*\u001B[39;49m\u001B[43mtmp_operands\u001B[49m\u001B[43m,\u001B[49m\u001B[43m \u001B[49m\u001B[43mbackend\u001B[49m\u001B[38;5;241;43m=\u001B[39;49m\u001B[43mbackend\u001B[49m\u001B[43m,\u001B[49m\u001B[43m \u001B[49m\u001B[38;5;241;43m*\u001B[39;49m\u001B[38;5;241;43m*\u001B[39;49m\u001B[43meinsum_kwargs\u001B[49m\u001B[43m)\u001B[49m\n\u001B[1;32m    593\u001B[0m \u001B[38;5;66;03m# Append new items and dereference what we can\u001B[39;00m\n\u001B[1;32m    594\u001B[0m operands\u001B[38;5;241m.\u001B[39mappend(new_view)\n",
      "File \u001B[0;32m~/PycharmProjects/geometric-gnn-dojo/venv/lib/python3.9/site-packages/opt_einsum/sharing.py:151\u001B[0m, in \u001B[0;36meinsum_cache_wrap.<locals>.cached_einsum\u001B[0;34m(*args, **kwargs)\u001B[0m\n\u001B[1;32m    148\u001B[0m \u001B[38;5;129m@functools\u001B[39m\u001B[38;5;241m.\u001B[39mwraps(einsum)\n\u001B[1;32m    149\u001B[0m \u001B[38;5;28;01mdef\u001B[39;00m \u001B[38;5;21mcached_einsum\u001B[39m(\u001B[38;5;241m*\u001B[39margs, \u001B[38;5;241m*\u001B[39m\u001B[38;5;241m*\u001B[39mkwargs):\n\u001B[1;32m    150\u001B[0m     \u001B[38;5;28;01mif\u001B[39;00m \u001B[38;5;129;01mnot\u001B[39;00m currently_sharing():\n\u001B[0;32m--> 151\u001B[0m         \u001B[38;5;28;01mreturn\u001B[39;00m \u001B[43meinsum\u001B[49m\u001B[43m(\u001B[49m\u001B[38;5;241;43m*\u001B[39;49m\u001B[43margs\u001B[49m\u001B[43m,\u001B[49m\u001B[43m \u001B[49m\u001B[38;5;241;43m*\u001B[39;49m\u001B[38;5;241;43m*\u001B[39;49m\u001B[43mkwargs\u001B[49m\u001B[43m)\u001B[49m\n\u001B[1;32m    153\u001B[0m     \u001B[38;5;66;03m# hash modulo commutativity by computing a canonical ordering and names\u001B[39;00m\n\u001B[1;32m    154\u001B[0m     backend \u001B[38;5;241m=\u001B[39m kwargs\u001B[38;5;241m.\u001B[39mpop(\u001B[38;5;124m'\u001B[39m\u001B[38;5;124mbackend\u001B[39m\u001B[38;5;124m'\u001B[39m, \u001B[38;5;124m'\u001B[39m\u001B[38;5;124mnumpy\u001B[39m\u001B[38;5;124m'\u001B[39m)\n",
      "File \u001B[0;32m~/PycharmProjects/geometric-gnn-dojo/venv/lib/python3.9/site-packages/opt_einsum/contract.py:353\u001B[0m, in \u001B[0;36m_einsum\u001B[0;34m(*operands, **kwargs)\u001B[0m\n\u001B[1;32m    349\u001B[0m         einsum_str \u001B[38;5;241m+\u001B[39m\u001B[38;5;241m=\u001B[39m \u001B[38;5;124m'\u001B[39m\u001B[38;5;124m->\u001B[39m\u001B[38;5;124m'\u001B[39m \u001B[38;5;241m+\u001B[39m parser\u001B[38;5;241m.\u001B[39mfind_output_str(einsum_str)\n\u001B[1;32m    351\u001B[0m     einsum_str \u001B[38;5;241m=\u001B[39m parser\u001B[38;5;241m.\u001B[39mconvert_to_valid_einsum_chars(einsum_str)\n\u001B[0;32m--> 353\u001B[0m \u001B[38;5;28;01mreturn\u001B[39;00m \u001B[43mfn\u001B[49m\u001B[43m(\u001B[49m\u001B[43meinsum_str\u001B[49m\u001B[43m,\u001B[49m\u001B[43m \u001B[49m\u001B[38;5;241;43m*\u001B[39;49m\u001B[43moperands\u001B[49m\u001B[43m,\u001B[49m\u001B[43m \u001B[49m\u001B[38;5;241;43m*\u001B[39;49m\u001B[38;5;241;43m*\u001B[39;49m\u001B[43mkwargs\u001B[49m\u001B[43m)\u001B[49m\n",
      "File \u001B[0;32m~/PycharmProjects/geometric-gnn-dojo/venv/lib/python3.9/site-packages/opt_einsum/backends/torch.py:45\u001B[0m, in \u001B[0;36meinsum\u001B[0;34m(equation, *operands)\u001B[0m\n\u001B[1;32m     42\u001B[0m equation \u001B[38;5;241m=\u001B[39m convert_to_valid_einsum_chars(equation)\n\u001B[1;32m     44\u001B[0m torch, _ \u001B[38;5;241m=\u001B[39m _get_torch_and_device()\n\u001B[0;32m---> 45\u001B[0m \u001B[38;5;28;01mreturn\u001B[39;00m \u001B[43mtorch\u001B[49m\u001B[38;5;241;43m.\u001B[39;49m\u001B[43meinsum\u001B[49m\u001B[43m(\u001B[49m\u001B[43mequation\u001B[49m\u001B[43m,\u001B[49m\u001B[43m \u001B[49m\u001B[43moperands\u001B[49m\u001B[43m)\u001B[49m\n",
      "File \u001B[0;32m~/PycharmProjects/geometric-gnn-dojo/venv/lib/python3.9/site-packages/torch/functional.py:373\u001B[0m, in \u001B[0;36meinsum\u001B[0;34m(*args)\u001B[0m\n\u001B[1;32m    370\u001B[0m     _operands \u001B[38;5;241m=\u001B[39m operands[\u001B[38;5;241m0\u001B[39m]\n\u001B[1;32m    371\u001B[0m     \u001B[38;5;66;03m# recurse incase operands contains value that has torch function\u001B[39;00m\n\u001B[1;32m    372\u001B[0m     \u001B[38;5;66;03m# in the original implementation this line is omitted\u001B[39;00m\n\u001B[0;32m--> 373\u001B[0m     \u001B[38;5;28;01mreturn\u001B[39;00m \u001B[43meinsum\u001B[49m\u001B[43m(\u001B[49m\u001B[43mequation\u001B[49m\u001B[43m,\u001B[49m\u001B[43m \u001B[49m\u001B[38;5;241;43m*\u001B[39;49m\u001B[43m_operands\u001B[49m\u001B[43m)\u001B[49m\n\u001B[1;32m    375\u001B[0m \u001B[38;5;28;01mif\u001B[39;00m \u001B[38;5;28mlen\u001B[39m(operands) \u001B[38;5;241m<\u001B[39m\u001B[38;5;241m=\u001B[39m \u001B[38;5;241m2\u001B[39m \u001B[38;5;129;01mor\u001B[39;00m \u001B[38;5;129;01mnot\u001B[39;00m opt_einsum\u001B[38;5;241m.\u001B[39menabled:\n\u001B[1;32m    376\u001B[0m     \u001B[38;5;66;03m# the path for contracting 0 or 1 time(s) is already optimized\u001B[39;00m\n\u001B[1;32m    377\u001B[0m     \u001B[38;5;66;03m# or the user has disabled using opt_einsum\u001B[39;00m\n\u001B[1;32m    378\u001B[0m     \u001B[38;5;28;01mreturn\u001B[39;00m _VF\u001B[38;5;241m.\u001B[39meinsum(equation, operands)  \u001B[38;5;66;03m# type: ignore[attr-defined]\u001B[39;00m\n",
      "File \u001B[0;32m~/PycharmProjects/geometric-gnn-dojo/venv/lib/python3.9/site-packages/torch/functional.py:192\u001B[0m, in \u001B[0;36meinsum\u001B[0;34m(*args)\u001B[0m\n\u001B[1;32m    185\u001B[0m     \u001B[38;5;66;03m# Overwriting reason:\u001B[39;00m\n\u001B[1;32m    186\u001B[0m     \u001B[38;5;66;03m# This dispatches to two ATen functions depending on the type of\u001B[39;00m\n\u001B[1;32m    187\u001B[0m     \u001B[38;5;66;03m# split_size_or_sections. The branching code is in _tensor.py, which we\u001B[39;00m\n\u001B[1;32m    188\u001B[0m     \u001B[38;5;66;03m# call here.\u001B[39;00m\n\u001B[1;32m    189\u001B[0m     \u001B[38;5;28;01mreturn\u001B[39;00m tensor\u001B[38;5;241m.\u001B[39msplit(split_size_or_sections, dim)\n\u001B[0;32m--> 192\u001B[0m \u001B[38;5;28;01mdef\u001B[39;00m \u001B[38;5;21meinsum\u001B[39m(\u001B[38;5;241m*\u001B[39margs: Any) \u001B[38;5;241m-\u001B[39m\u001B[38;5;241m>\u001B[39m Tensor:\n\u001B[1;32m    193\u001B[0m \u001B[38;5;250m    \u001B[39m\u001B[38;5;124mr\u001B[39m\u001B[38;5;124;03m\"\"\"einsum(equation, *operands) -> Tensor\u001B[39;00m\n\u001B[1;32m    194\u001B[0m \n\u001B[1;32m    195\u001B[0m \u001B[38;5;124;03m    Sums the product of the elements of the input :attr:`operands` along dimensions specified using a notation\u001B[39;00m\n\u001B[0;32m   (...)\u001B[0m\n\u001B[1;32m    328\u001B[0m \u001B[38;5;124;03m                [ 0.3311,  5.5201, -3.0356]])\u001B[39;00m\n\u001B[1;32m    329\u001B[0m \u001B[38;5;124;03m    \"\"\"\u001B[39;00m\n\u001B[1;32m    330\u001B[0m     \u001B[38;5;66;03m# This wrapper exists to support variadic args.\u001B[39;00m\n",
      "\u001B[0;31mKeyboardInterrupt\u001B[0m: "
     ]
    }
   ],
   "source": [
    "results = []\n",
    "tensors_out = []\n",
    "n_indices_list = [2,4,6,8,10]\n",
    "\n",
    "for n_indices in tqdm(n_indices_list):\n",
    "\n",
    "    shape = [n_channels] + [dim] * n_indices\n",
    "\n",
    "    tensors_in = torch.randn(shape)\n",
    "\n",
    "    cartesian_contraction = CartesianContraction(n_indices=n_indices, c_out=c_out, dim=dim, n_channels=n_channels, split=[n_indices], n_extra_dim=1)\n",
    "\n",
    "    tensors_out.append(cartesian_contraction([tensors_in]))\n",
    "\n",
    "    timing_result = %timeit -o -q cartesian_contraction([tensors_in])\n",
    "\n",
    "    results.append(timing_result.average)\n",
    "\n",
    "print(results)"
   ],
   "metadata": {
    "collapsed": false
   }
  },
  {
   "cell_type": "code",
   "execution_count": 278,
   "outputs": [
    {
     "data": {
      "text/plain": "<Figure size 640x480 with 1 Axes>",
      "image/png": "[encoded data removed]"
     },
     "metadata": {},
     "output_type": "display_data"
    }
   ],
   "source": [
    "plt.plot(n_indices_list, results)\n",
    "# plt.yscale('log') # combinatorial relationship\n",
    "plt.show()"
   ],
   "metadata": {
    "collapsed": false
   }
  },
  {
   "cell_type": "code",
   "execution_count": 279,
   "outputs": [
    {
     "data": {
      "text/plain": "<Figure size 640x480 with 1 Axes>",
      "image/png": "[encoded data removed]"
     },
     "metadata": {},
     "output_type": "display_data"
    }
   ],
   "source": [
    "n_contractions = [count_contractions(n_indices, n_indices/2) for n_indices in n_indices_list]\n",
    "\n",
    "plt.plot(n_contractions, results)\n",
    "plt.show()"
   ],
   "metadata": {
    "collapsed": false
   }
  },
  {
   "cell_type": "code",
   "execution_count": 280,
   "outputs": [
    {
     "data": {
      "text/plain": "True"
     },
     "execution_count": 280,
     "metadata": {},
     "output_type": "execute_result"
    }
   ],
   "source": [
    "n_contractions == [len(out) for out in tensors_out] # nice!"
   ],
   "metadata": {
    "collapsed": false
   }
  },
  {
   "cell_type": "markdown",
   "source": [
    "# Testing model performance"
   ],
   "metadata": {
    "collapsed": false
   }
  },
  {
   "cell_type": "code",
   "execution_count": 303,
   "outputs": [],
   "source": [
    "path = './qm9'\n",
    "target = 0\n",
    "\n",
    "# Transforms which are applied during data loading:\n",
    "# (1) Fully connect the graphs, (2) Select the target/label\n",
    "# transform = T.Compose([CompleteGraph(), SetTarget()])\n",
    "#\n",
    "# Load the QM9 dataset with the transforms defined\n",
    "dataset = QM9(path)\n",
    "\n",
    "data = dataset[10]"
   ],
   "metadata": {
    "collapsed": false
   }
  },
  {
   "cell_type": "code",
   "execution_count": 304,
   "outputs": [],
   "source": [
    "def to_nx(data):\n",
    "    # Convert the PyTorch Geometric Data object to a NetworkX graph\n",
    "    G = to_networkx(data, to_undirected=True)\n",
    "\n",
    "    # Transfer the node features to the NetworkX graph as node attributes\n",
    "    for i, nf in enumerate(data.x.tolist()):\n",
    "        G.nodes[i]['features'] = nf\n",
    "\n",
    "    return G"
   ],
   "metadata": {
    "collapsed": false
   }
  },
  {
   "cell_type": "code",
   "execution_count": 305,
   "outputs": [
    {
     "data": {
      "text/plain": "<Figure size 640x480 with 1 Axes>",
      "image/png": "[encoded data removed]"
     },
     "metadata": {},
     "output_type": "display_data"
    }
   ],
   "source": [
    "G = to_nx(data)\n",
    "nx.draw(G) # i.e. this is ethanol or something similar"
   ],
   "metadata": {
    "collapsed": false
   }
  },
  {
   "cell_type": "code",
   "execution_count": 306,
   "outputs": [],
   "source": [
    "def create_rotsym_envs(fold=3):\n",
    "    dataset = []\n",
    "\n",
    "    # Environment 0\n",
    "    atoms = torch.LongTensor([ 0 ] + [ 0 ] * fold)\n",
    "    edge_index = torch.LongTensor( [ [0] * fold, [i for i in range(1, fold+1)] ] )\n",
    "    x = torch.Tensor([1,0,0])\n",
    "    pos = [\n",
    "        torch.Tensor([0,0,0]),  # origin\n",
    "        x,   # first spoke\n",
    "    ]\n",
    "    for count in range(1, fold):\n",
    "        R = o3.matrix_z(torch.Tensor([2*math.pi/fold * count])).squeeze(0)\n",
    "        pos.append(x @ R.T)\n",
    "    pos = torch.stack(pos)\n",
    "    y = torch.LongTensor([0])  # Label 0\n",
    "    data1 = Data(atoms=atoms, edge_index=edge_index, pos=pos, y=y)\n",
    "    data1.edge_index = to_undirected(data1.edge_index)\n",
    "    dataset.append(data1)\n",
    "\n",
    "    # Environment 1\n",
    "    q = 2*math.pi/(fold + random.randint(1, fold))\n",
    "    assert q < 2*math.pi/fold\n",
    "    Q = o3.matrix_z(torch.Tensor([q])).squeeze(0)\n",
    "    pos = pos @ Q.T\n",
    "    y = torch.LongTensor([1])  # Label 1\n",
    "    data2 = Data(atoms=atoms, edge_index=edge_index, pos=pos, y=y)\n",
    "    data2.edge_index = to_undirected(data2.edge_index)\n",
    "    dataset.append(data2)\n",
    "\n",
    "    return dataset"
   ],
   "metadata": {
    "collapsed": false
   }
  },
  {
   "cell_type": "code",
   "execution_count": 302,
   "outputs": [],
   "source": [
    "# hyperparams\n",
    "n_channels = 4\n",
    "self_tp_rank_max = 2\n",
    "basis_rank_max = 2\n",
    "dim = 3\n",
    "n_layers = 1\n",
    "nu_max = 1\n",
    "feature_rank_max = 2"
   ],
   "metadata": {
    "collapsed": false
   }
  },
  {
   "cell_type": "code",
   "execution_count": 359,
   "outputs": [
    {
     "name": "stderr",
     "output_type": "stream",
     "text": [
      "100%|██████████| 4/4 [00:47<00:00, 11.94s/it]\n"
     ]
    }
   ],
   "source": [
    "cmace_results = []\n",
    "mace_results = []\n",
    "\n",
    "# hyperparams\n",
    "n_channels = 4\n",
    "self_tp_rank_max = 2\n",
    "basis_rank_max = 2\n",
    "dim = 3\n",
    "n_layers = 3\n",
    "nu_max = 1\n",
    "feature_rank_max = 2\n",
    "\n",
    "nu_max_list = [1,2,3,4] # max of 5\n",
    "\n",
    "for nu_max in tqdm(nu_max_list):\n",
    "\n",
    "    shape = [n_channels] + [dim] * n_indices\n",
    "\n",
    "    tensors_in = torch.randn(shape)\n",
    "\n",
    "    cartesian_mace = CartesianMACE(\n",
    "        n_channels=n_channels,\n",
    "        self_tp_rank_max=self_tp_rank_max,\n",
    "        basis_rank_max=basis_rank_max,\n",
    "        dim=dim,\n",
    "        n_layers=n_layers,\n",
    "        nu_max=nu_max,\n",
    "        feature_rank_max=feature_rank_max,\n",
    "    )\n",
    "\n",
    "    timing_result = %timeit -o -q cartesian_mace(data)\n",
    "    cmace_results.append(timing_result.average)\n",
    "\n",
    "    mace = MACEModel(\n",
    "        scalar_pred=False,\n",
    "        correlation=nu_max,\n",
    "        num_layers=n_layers,\n",
    "        out_dim=2,\n",
    "        max_ell=self_tp_rank_max,\n",
    "        emb_dim=n_channels,\n",
    "    )\n",
    "\n",
    "    timing_result = %timeit -o -q mace(data)\n",
    "    mace_results.append(timing_result.average)\n",
    "\n"
   ],
   "metadata": {
    "collapsed": false
   }
  },
  {
   "cell_type": "code",
   "execution_count": 361,
   "outputs": [
    {
     "data": {
      "text/plain": "<Figure size 640x480 with 1 Axes>",
      "image/png": "[encoded data removed]"
     },
     "metadata": {},
     "output_type": "display_data"
    }
   ],
   "source": [
    "plt.plot(nu_max_list, cmace_results)\n",
    "plt.plot(nu_max_list, mace_results)\n",
    "plt.yscale('log')\n",
    "plt.show()"
   ],
   "metadata": {
    "collapsed": false
   }
  },
  {
   "cell_type": "code",
   "execution_count": 367,
   "outputs": [
    {
     "name": "stdout",
     "output_type": "stream",
     "text": [
      "2.22 ms ± 171 µs per loop (mean ± std. dev. of 7 runs, 100 loops each)\n"
     ]
    }
   ],
   "source": [
    "mace = MACEModel(\n",
    "    scalar_pred=False,\n",
    "    correlation=3,\n",
    "    num_layers=1,\n",
    "    out_dim=2,\n",
    "    max_ell=self_tp_rank_max,\n",
    "    emb_dim=n_channels,\n",
    ")\n",
    "\n",
    "%timeit mace(data)"
   ],
   "metadata": {
    "collapsed": false
   }
  },
  {
   "cell_type": "code",
   "execution_count": 365,
   "outputs": [
    {
     "data": {
      "text/plain": "<TimeitResult : 5.25 ms ± 162 µs per loop (mean ± std. dev. of 7 runs, 100 loops each)>"
     },
     "execution_count": 365,
     "metadata": {},
     "output_type": "execute_result"
    }
   ],
   "source": [
    "\n",
    "\n",
    "%timeit -o -q cartesian_mace(data) # why on earth is it so much slower?"
   ],
   "metadata": {
    "collapsed": false
   }
  },
  {
   "cell_type": "code",
   "execution_count": 369,
   "outputs": [
    {
     "ename": "TypeError",
     "evalue": "count_contractions() missing 2 required positional arguments: 'n' and 'n_contractions'",
     "output_type": "error",
     "traceback": [
      "\u001B[0;31m---------------------------------------------------------------------------\u001B[0m",
      "\u001B[0;31mTypeError\u001B[0m                                 Traceback (most recent call last)",
      "Cell \u001B[0;32mIn[369], line 1\u001B[0m\n\u001B[0;32m----> 1\u001B[0m \u001B[43mcount_contractions\u001B[49m\u001B[43m(\u001B[49m\u001B[43m)\u001B[49m\n",
      "\u001B[0;31mTypeError\u001B[0m: count_contractions() missing 2 required positional arguments: 'n' and 'n_contractions'"
     ]
    }
   ],
   "source": [
    "for n in []\n",
    "    print(count_contractions(n=n, n_contractions=n_contractions))"
   ],
   "metadata": {
    "collapsed": false
   }
  },
  {
   "cell_type": "code",
   "execution_count": 373,
   "outputs": [],
   "source": [
    "def find_combinations(n, nu, c_max: Optional[int] = 2):\n",
    "    def helper(n, nu, current_combination, start):\n",
    "        if n == 0 and nu == 0:\n",
    "            combinations.append(current_combination[:])\n",
    "            return\n",
    "\n",
    "        if n < 0 or nu == 0:\n",
    "            return\n",
    "\n",
    "        for i in range(start, c_max + 1):\n",
    "            current_combination.append(i)\n",
    "            helper(n - i, nu - 1, current_combination, i)\n",
    "            current_combination.pop()\n",
    "\n",
    "    combinations = []\n",
    "    helper(n, nu, [], 0)\n",
    "    return combinations"
   ],
   "metadata": {
    "collapsed": false
   }
  },
  {
   "cell_type": "code",
   "execution_count": 374,
   "outputs": [
    {
     "data": {
      "text/plain": "[[2, 2, 2]]"
     },
     "execution_count": 374,
     "metadata": {},
     "output_type": "execute_result"
    }
   ],
   "source": [
    "find_combinations(n=6, nu=3)"
   ],
   "metadata": {
    "collapsed": false
   }
  },
  {
   "cell_type": "code",
   "execution_count": 415,
   "outputs": [
    {
     "name": "stdout",
     "output_type": "stream",
     "text": [
      "1\n",
      "[[1]]\n",
      "1\n",
      "[[0, 1]]\n",
      "3\n",
      "[[1, 2]]\n",
      "1\n",
      "[[0, 0, 1]]\n",
      "3\n",
      "[[0, 1, 2], [1, 1, 1]]\n",
      "15\n",
      "[[1, 2, 2]]\n",
      "1\n",
      "[[0, 0, 0, 1]]\n",
      "3\n",
      "[[0, 0, 1, 2], [0, 1, 1, 1]]\n",
      "15\n",
      "[[0, 1, 2, 2], [1, 1, 1, 2]]\n",
      "105\n",
      "[[1, 2, 2, 2]]\n"
     ]
    }
   ],
   "source": [
    "l = []\n",
    "\n",
    "for nu in [1,2,3,4]:\n",
    "\n",
    "    for n in range(1,2*nu+1,2):\n",
    "\n",
    "        n_contractions = int(n / 2)\n",
    "\n",
    "        if contraction_is_valid(n, 1):\n",
    "\n",
    "            n_contractions = int(n / 2 - 0.5)\n",
    "\n",
    "            print(count_contractions(n=n, n_contractions=n_contractions))\n",
    "            print(find_combinations(n=n, nu=nu))\n",
    "\n",
    "            l.append(count_contractions(n=n, n_contractions=n_contractions) * len(find_combinations(n=n, nu=nu)))"
   ],
   "metadata": {
    "collapsed": false
   }
  },
  {
   "cell_type": "code",
   "execution_count": 416,
   "outputs": [
    {
     "data": {
      "text/plain": "tensor([  1.,   2.,   5.,   6.,  12.,  27.,  28.,  34.,  64., 169.])"
     },
     "execution_count": 416,
     "metadata": {},
     "output_type": "execute_result"
    }
   ],
   "source": [
    "l = torch.Tensor(l)\n",
    "\n",
    "torch.cumsum(l, dim=0)"
   ],
   "metadata": {
    "collapsed": false
   }
  },
  {
   "cell_type": "code",
   "execution_count": 412,
   "outputs": [
    {
     "ename": "TypeError",
     "evalue": "contraction_is_valid() missing 2 required positional arguments: 'num_legs_in' and 'num_legs_out'",
     "output_type": "error",
     "traceback": [
      "\u001B[0;31m---------------------------------------------------------------------------\u001B[0m",
      "\u001B[0;31mTypeError\u001B[0m                                 Traceback (most recent call last)",
      "Cell \u001B[0;32mIn[412], line 1\u001B[0m\n\u001B[0;32m----> 1\u001B[0m \u001B[43mcontraction_is_valid\u001B[49m\u001B[43m(\u001B[49m\u001B[43m)\u001B[49m\n",
      "\u001B[0;31mTypeError\u001B[0m: contraction_is_valid() missing 2 required positional arguments: 'num_legs_in' and 'num_legs_out'"
     ]
    }
   ],
   "source": [
    "for n in range print(contraction_is_valid(n, 1))"
   ],
   "metadata": {
    "collapsed": false
   }
  },
  {
   "cell_type": "code",
   "execution_count": null,
   "outputs": [],
   "source": [],
   "metadata": {
    "collapsed": false
   }
  }
 ],
 "metadata": {
  "kernelspec": {
   "display_name": "Python 3",
   "language": "python",
   "name": "python3"
  },
  "language_info": {
   "codemirror_mode": {
    "name": "ipython",
    "version": 2
   },
   "file_extension": ".py",
   "mimetype": "text/x-python",
   "name": "python",
   "nbconvert_exporter": "python",
   "pygments_lexer": "ipython2",
   "version": "2.7.6"
  }
 },
 "nbformat": 4,
 "nbformat_minor": 0
}
