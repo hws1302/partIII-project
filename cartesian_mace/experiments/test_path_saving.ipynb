{
 "cells": [
  {
   "cell_type": "code",
   "execution_count": 1,
   "metadata": {
    "collapsed": true
   },
   "outputs": [],
   "source": [
    "import torch\n",
    "import opt_einsum as oe"
   ]
  },
  {
   "cell_type": "code",
   "execution_count": 3,
   "outputs": [
    {
     "data": {
      "text/plain": "([(0, 1)],\n   Complete contraction:  abijk,ijk->\n          Naive scaling:  5\n      Optimized scaling:  5\n       Naive FLOP count:  8.640e+4\n   Optimized FLOP count:  8.640e+4\n    Theoretical speedup:  1.000e+0\n   Largest intermediate:  1.000e+0 elements\n --------------------------------------------------------------------------------\n scaling        BLAS                current                             remaining\n --------------------------------------------------------------------------------\n    5              0            ijk,abijk->                                    ->)"
     },
     "execution_count": 3,
     "metadata": {},
     "output_type": "execute_result"
    }
   ],
   "source": [
    "# what would be a canoncial contraction?\n",
    "n_nodes = 25 # what is a typical molecule size?\n",
    "n_channels = 64 # like in mace\n",
    "\n",
    "h = torch.randn(n_nodes, n_channels,3,3,3)\n",
    "self_tp_tensor = torch.randn(3,3,3)\n",
    "\n",
    "oe.contract_path('abijk,ijk->', h, self_tp_tensor)"
   ],
   "metadata": {
    "collapsed": false
   }
  },
  {
   "cell_type": "code",
   "execution_count": null,
   "outputs": [],
   "source": [],
   "metadata": {
    "collapsed": false
   }
  }
 ],
 "metadata": {
  "kernelspec": {
   "display_name": "Python 3",
   "language": "python",
   "name": "python3"
  },
  "language_info": {
   "codemirror_mode": {
    "name": "ipython",
    "version": 2
   },
   "file_extension": ".py",
   "mimetype": "text/x-python",
   "name": "python",
   "nbconvert_exporter": "python",
   "pygments_lexer": "ipython2",
   "version": "2.7.6"
  }
 },
 "nbformat": 4,
 "nbformat_minor": 0
}
