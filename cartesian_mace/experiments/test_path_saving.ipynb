{
 "cells": [
  {
   "cell_type": "code",
   "execution_count": 50,
   "metadata": {
    "collapsed": true
   },
   "outputs": [],
   "source": [
    "import torch\n",
    "import opt_einsum as oe\n",
    "import numpy as np"
   ]
  },
  {
   "cell_type": "code",
   "execution_count": 59,
   "outputs": [],
   "source": [
    "import torch\n",
    "\n",
    "r = torch.randn\n",
    "\n",
    "v1 = r(1,3)\n",
    "v2 = r(1000,3)\n",
    "m1 = r(1,3,3)\n",
    "m2 = r(1000,3,3)\n",
    "t1 = r(1,3,3,3)\n",
    "t2 = r(1000,3,3,3)"
   ],
   "metadata": {
    "collapsed": false
   }
  },
  {
   "cell_type": "code",
   "execution_count": 60,
   "outputs": [
    {
     "data": {
      "text/plain": "([(0, 5), (1, 4), (1, 2), (0, 2), (0, 1)],\n   Complete contraction:  bjkl,bmno,bmj,bo,bn,bkl->b\n          Naive scaling:  7\n      Optimized scaling:  4\n       Naive FLOP count:  4.374e+6\n   Optimized FLOP count:  1.410e+5\n    Theoretical speedup:  3.102e+1\n   Largest intermediate:  9.000e+3 elements\n --------------------------------------------------------------------------------\n scaling        BLAS                current                             remaining\n --------------------------------------------------------------------------------\n    4              0           bkl,bjkl->bj                  bmno,bmj,bo,bn,bj->b\n    3              0             bj,bmj->bm                      bmno,bo,bn,bm->b\n    3              0             bn,bo->bno                        bmno,bm,bno->b\n    4              0           bno,bmno->bm                              bm,bm->b\n    2              0               bm,bm->b                                  b->b)"
     },
     "execution_count": 60,
     "metadata": {},
     "output_type": "execute_result"
    }
   ],
   "source": [
    "oe.contract_path('bjkl, bmno, bmj, bo, bn, bkl -> b', t2, t2, m2, v2, v2, m2)"
   ],
   "metadata": {
    "collapsed": false
   }
  },
  {
   "cell_type": "code",
   "execution_count": 61,
   "outputs": [
    {
     "data": {
      "text/plain": "<ContractExpression('bjkl, bmno, bmj, bo, bn, bkl -> b')>"
     },
     "execution_count": 61,
     "metadata": {},
     "output_type": "execute_result"
    }
   ],
   "source": [
    "expr = oe.contract_expression('bjkl, bmno, bmj, bo, bn, bkl -> b', t2.shape, t2.shape, m2.shape, v2.shape, v2.shape, m2.shape)\n",
    "\n",
    "expr"
   ],
   "metadata": {
    "collapsed": false
   }
  },
  {
   "cell_type": "code",
   "execution_count": 75,
   "outputs": [],
   "source": [
    "no_saved_path = %timeit -o -q -n 1000 torch.einsum('bjkl, bmno, bmj, bo, bn, bkl -> b', t2, t2, m2, v2, v2, m2)\n",
    "no_saved_path_np = %timeit -o -q -n 1000 np.einsum('bjkl, bmno, bmj, bo, bn, bkl -> b', t2.numpy(), t2.numpy(), m2.numpy(), v2.numpy(), v2.numpy(), m2.numpy())\n",
    "saved_path = %timeit -o -q -n 1000 expr(t2, t2, m2, v2, v2, m2)"
   ],
   "metadata": {
    "collapsed": false
   }
  },
  {
   "cell_type": "code",
   "execution_count": 80,
   "outputs": [
    {
     "data": {
      "text/plain": "(5.3213238375998975, 27.677688078191792)"
     },
     "execution_count": 80,
     "metadata": {},
     "output_type": "execute_result"
    }
   ],
   "source": [
    "no_saved_path_np.average / no_saved_pa2th.average, no_saved_path_np.average / saved_path.average"
   ],
   "metadata": {
    "collapsed": false
   }
  },
  {
   "cell_type": "code",
   "execution_count": 77,
   "outputs": [
    {
     "data": {
      "text/plain": "(<TimeitResult : 1.79 ms ± 33.8 µs per loop (mean ± std. dev. of 7 runs, 1,000 loops each)>,\n <TimeitResult : 9.52 ms ± 124 µs per loop (mean ± std. dev. of 7 runs, 1,000 loops each)>,\n <TimeitResult : 344 µs ± 20.2 µs per loop (mean ± std. dev. of 7 runs, 1,000 loops each)>)"
     },
     "execution_count": 77,
     "metadata": {},
     "output_type": "execute_result"
    }
   ],
   "source": [
    "no_saved_path, no_saved_path_np, saved_path"
   ],
   "metadata": {
    "collapsed": false
   }
  },
  {
   "cell_type": "code",
   "execution_count": null,
   "outputs": [],
   "source": [],
   "metadata": {
    "collapsed": false
   }
  }
 ],
 "metadata": {
  "kernelspec": {
   "display_name": "Python 3",
   "language": "python",
   "name": "python3"
  },
  "language_info": {
   "codemirror_mode": {
    "name": "ipython",
    "version": 2
   },
   "file_extension": ".py",
   "mimetype": "text/x-python",
   "name": "python",
   "nbconvert_exporter": "python",
   "pygments_lexer": "ipython2",
   "version": "2.7.6"
  }
 },
 "nbformat": 4,
 "nbformat_minor": 0
}
