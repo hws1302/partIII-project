{
 "cells": [
  {
   "cell_type": "markdown",
   "source": [
    "# Current issues with current project\n",
    "\n",
    "1. Unit tests don't seem to be working\n",
    "2. Speed tests don't work/what is the equivalent for MACE"
   ],
   "metadata": {
    "collapsed": false
   }
  },
  {
   "cell_type": "code",
   "execution_count": 1,
   "outputs": [
    {
     "name": "stdout",
     "output_type": "stream",
     "text": [
      "PyTorch version 1.13.1\n",
      "PyG version 2.0.3\n",
      "e3nn version 0.5.1\n",
      "Using device: cpu\n"
     ]
    }
   ],
   "source": [
    "# import necessary stuff to run the unit tests\n",
    "\n",
    "%load_ext autoreload\n",
    "%autoreload 2\n",
    "\n",
    "import sys\n",
    "sys.path.append('../')\n",
    "\n",
    "import random\n",
    "import math\n",
    "import numpy as np\n",
    "import torch\n",
    "from torch.nn import functional as F\n",
    "import torch_geometric\n",
    "from torch_geometric.data import Data, Batch\n",
    "from torch_geometric.loader import DataLoader\n",
    "from torch_geometric.utils import is_undirected, to_undirected, remove_self_loops, to_dense_adj, dense_to_sparse\n",
    "import e3nn\n",
    "from e3nn import o3\n",
    "from functools import partial\n",
    "\n",
    "print(\"PyTorch version {}\".format(torch.__version__))\n",
    "print(\"PyG version {}\".format(torch_geometric.__version__))\n",
    "print(\"e3nn version {}\".format(e3nn.__version__))\n",
    "\n",
    "from src.utils.plot_utils import plot_2d, plot_3d\n",
    "from src.utils.train_utils import run_experiment\n",
    "from src.models import MACEModel\n",
    "from cartesian_mace.models.model import CartesianMACE\n",
    "\n",
    "from typing import List\n",
    "import string\n",
    "\n",
    "# Check PyTorch has access to MPS (Metal Performance Shader, Apple's GPU architecture)\n",
    "# print(f\"Is MPS (Metal Performance Shader) built? {torch.backends.mps.is_built()}\")\n",
    "# print(f\"Is MPS available? {torch.backends.mps.is_available()}\")\n",
    "\n",
    "# Set the device\n",
    "device = torch.device('cuda' if torch.cuda.is_available() else 'cpu')\n",
    "# device = torch.device(\"mps\" if torch.backends.mps.is_available() else \"cpu\")\n",
    "# device = torch.device(\"cpu\")\n",
    "print(f\"Using device: {device}\")"
   ],
   "metadata": {
    "collapsed": false
   }
  },
  {
   "cell_type": "code",
   "execution_count": 2,
   "outputs": [],
   "source": [
    "def create_rotsym_envs(fold=3):\n",
    "    dataset = []\n",
    "\n",
    "    # Environment 0\n",
    "    atoms = torch.LongTensor([ 0 ] + [ 0 ] * fold)\n",
    "    edge_index = torch.LongTensor( [ [0] * fold, [i for i in range(1, fold+1)] ] )\n",
    "    x = torch.Tensor([1,0,0])\n",
    "    pos = [\n",
    "        torch.Tensor([0,0,0]),  # origin\n",
    "        x,   # first spoke\n",
    "    ]\n",
    "    for count in range(1, fold):\n",
    "        R = o3.matrix_z(torch.Tensor([2*math.pi/fold * count])).squeeze(0)\n",
    "        pos.append(x @ R.T)\n",
    "    pos = torch.stack(pos)\n",
    "    y = torch.LongTensor([0])  # Label 0\n",
    "    data1 = Data(atoms=atoms, edge_index=edge_index, pos=pos, y=y)\n",
    "    data1.edge_index = to_undirected(data1.edge_index)\n",
    "    dataset.append(data1)\n",
    "\n",
    "    # Environment 1\n",
    "    q = 2*math.pi/(fold + random.randint(1, fold))\n",
    "    assert q < 2*math.pi/fold\n",
    "    Q = o3.matrix_z(torch.Tensor([q])).squeeze(0)\n",
    "    pos = pos @ Q.T\n",
    "    y = torch.LongTensor([1])  # Label 1\n",
    "    data2 = Data(atoms=atoms, edge_index=edge_index, pos=pos, y=y)\n",
    "    data2.edge_index = to_undirected(data2.edge_index)\n",
    "    dataset.append(data2)\n",
    "\n",
    "    return dataset"
   ],
   "metadata": {
    "collapsed": false
   }
  },
  {
   "cell_type": "code",
   "execution_count": 8,
   "outputs": [],
   "source": [
    "# Create dataloaders\n",
    "fold = 3\n",
    "\n",
    "dataset = create_rotsym_envs(fold)\n",
    "\n",
    "dataloader = DataLoader(dataset, batch_size=1, shuffle=True)\n",
    "val_loader = DataLoader(dataset, batch_size=1, shuffle=False)\n",
    "test_loader = DataLoader(dataset, batch_size=1, shuffle=False)"
   ],
   "metadata": {
    "collapsed": false
   }
  },
  {
   "cell_type": "code",
   "execution_count": 14,
   "outputs": [
    {
     "name": "stderr",
     "output_type": "stream",
     "text": [
      "/Users/harryshaw/PycharmProjects/geometric-gnn-dojo/venv/lib/python3.9/site-packages/torch/jit/_check.py:181: UserWarning: The TorchScript type system doesn't support instance-level annotations on empty non-base types in `__init__`. Instead, either 1) use a type annotation in the class body, or 2) wrap the type in `torch.jit.Attribute`.\n",
      "  warnings.warn(\"The TorchScript type system doesn't support \"\n"
     ]
    },
    {
     "name": "stdout",
     "output_type": "stream",
     "text": [
      "Running experiment for MACEModel (cpu).\n"
     ]
    },
    {
     "name": "stderr",
     "output_type": "stream",
     "text": [
      "100%|██████████| 2/2 [00:03<00:00,  1.63s/it]"
     ]
    },
    {
     "name": "stdout",
     "output_type": "stream",
     "text": [
      "\n",
      "Done! Averaged over 2 runs: \n",
      " - Training time: 1.63s ± 0.11. \n",
      " - Best validation accuracy: 50.000 ± 0.000. \n",
      "- Test accuracy: 50.0 ± 0.0. \n",
      "\n"
     ]
    },
    {
     "name": "stderr",
     "output_type": "stream",
     "text": [
      "\n"
     ]
    }
   ],
   "source": [
    "max_ell = 3\n",
    "n_layers = 1\n",
    "nu_max = 2\n",
    "fold = 2\n",
    "n_epochs = 100\n",
    "\n",
    "# first of all lets run the test using a mace model that is in theory expressive enough (i.e. max_ell >= fold).\n",
    "\n",
    "mace_model = MACEModel(scalar_pred=False, correlation=nu_max, num_layers=n_layers, out_dim=2, max_ell=max_ell, emb_dim=3)\n",
    "\n",
    "\n",
    "best_val_acc, test_acc, train_time = run_experiment(\n",
    "    mace_model,\n",
    "    dataloader,\n",
    "    val_loader,\n",
    "    test_loader,\n",
    "    n_epochs=n_epochs,\n",
    "    n_times=2,\n",
    "    device=device,\n",
    "    verbose=False\n",
    ")\n",
    "\n",
    "# If we only use 100 epochs, there isn't enough time to learn and so we only get 50%"
   ],
   "metadata": {
    "collapsed": false
   }
  },
  {
   "cell_type": "code",
   "execution_count": 15,
   "outputs": [
    {
     "name": "stderr",
     "output_type": "stream",
     "text": [
      "/Users/harryshaw/PycharmProjects/geometric-gnn-dojo/venv/lib/python3.9/site-packages/torch/jit/_check.py:181: UserWarning: The TorchScript type system doesn't support instance-level annotations on empty non-base types in `__init__`. Instead, either 1) use a type annotation in the class body, or 2) wrap the type in `torch.jit.Attribute`.\n",
      "  warnings.warn(\"The TorchScript type system doesn't support \"\n"
     ]
    },
    {
     "name": "stdout",
     "output_type": "stream",
     "text": [
      "Running experiment for MACEModel (cpu).\n"
     ]
    },
    {
     "name": "stderr",
     "output_type": "stream",
     "text": [
      "100%|██████████| 2/2 [00:06<00:00,  3.12s/it]"
     ]
    },
    {
     "name": "stdout",
     "output_type": "stream",
     "text": [
      "\n",
      "Done! Averaged over 2 runs: \n",
      " - Training time: 3.12s ± 0.07. \n",
      " - Best validation accuracy: 75.000 ± 25.000. \n",
      "- Test accuracy: 75.0 ± 25.0. \n",
      "\n"
     ]
    },
    {
     "name": "stderr",
     "output_type": "stream",
     "text": [
      "\n"
     ]
    }
   ],
   "source": [
    "n_epochs = 200\n",
    "\n",
    "mace_model = MACEModel(scalar_pred=False, correlation=nu_max, num_layers=n_layers, out_dim=2, max_ell=max_ell, emb_dim=3)\n",
    "\n",
    "\n",
    "best_val_acc, test_acc, train_time = run_experiment(\n",
    "    mace_model,\n",
    "    dataloader,\n",
    "    val_loader,\n",
    "    test_loader,\n",
    "    n_epochs=n_epochs,\n",
    "    n_times=2,\n",
    "    device=device,\n",
    "    verbose=False\n",
    ")\n",
    "\n",
    "# now if we use 200 epochs we get 75% which basically means after 200 epochs it got 50% and then after 200 more epochs (we keep training this same instantiation of the model) the model scored 100%"
   ],
   "metadata": {
    "collapsed": false
   }
  },
  {
   "cell_type": "code",
   "execution_count": 17,
   "outputs": [
    {
     "name": "stderr",
     "output_type": "stream",
     "text": [
      "/Users/harryshaw/PycharmProjects/geometric-gnn-dojo/venv/lib/python3.9/site-packages/torch/jit/_check.py:181: UserWarning: The TorchScript type system doesn't support instance-level annotations on empty non-base types in `__init__`. Instead, either 1) use a type annotation in the class body, or 2) wrap the type in `torch.jit.Attribute`.\n",
      "  warnings.warn(\"The TorchScript type system doesn't support \"\n"
     ]
    },
    {
     "name": "stdout",
     "output_type": "stream",
     "text": [
      "Running experiment for MACEModel (cpu).\n"
     ]
    },
    {
     "name": "stderr",
     "output_type": "stream",
     "text": [
      "100%|██████████| 2/2 [00:15<00:00,  7.98s/it]"
     ]
    },
    {
     "name": "stdout",
     "output_type": "stream",
     "text": [
      "\n",
      "Done! Averaged over 2 runs: \n",
      " - Training time: 7.98s ± 0.12. \n",
      " - Best validation accuracy: 100.000 ± 0.000. \n",
      "- Test accuracy: 100.0 ± 0.0. \n",
      "\n"
     ]
    },
    {
     "name": "stderr",
     "output_type": "stream",
     "text": [
      "\n"
     ]
    }
   ],
   "source": [
    "n_epochs = 500\n",
    "mace_model = MACEModel(scalar_pred=False, correlation=nu_max, num_layers=n_layers, out_dim=2, max_ell=max_ell, emb_dim=3)\n",
    "\n",
    "\n",
    "best_val_acc, test_acc, train_time = run_experiment(\n",
    "    mace_model,\n",
    "    dataloader,\n",
    "    val_loader,\n",
    "    test_loader,\n",
    "    n_epochs=n_epochs,\n",
    "    n_times=2,\n",
    "    device=device,\n",
    "    verbose=False\n",
    ")\n",
    "\n",
    "# finally at 500 epochs, both times the test gives 100%! (not surprising that the second time, we get 100% if the first time we did too!)"
   ],
   "metadata": {
    "collapsed": false
   }
  },
  {
   "cell_type": "code",
   "execution_count": 31,
   "outputs": [
    {
     "name": "stderr",
     "output_type": "stream",
     "text": [
      "/Users/harryshaw/PycharmProjects/geometric-gnn-dojo/venv/lib/python3.9/site-packages/torch/jit/_check.py:181: UserWarning: The TorchScript type system doesn't support instance-level annotations on empty non-base types in `__init__`. Instead, either 1) use a type annotation in the class body, or 2) wrap the type in `torch.jit.Attribute`.\n",
      "  warnings.warn(\"The TorchScript type system doesn't support \"\n"
     ]
    },
    {
     "name": "stdout",
     "output_type": "stream",
     "text": [
      "2 fold symmetry:\n",
      "Running experiment for MACEModel (cpu).\n"
     ]
    },
    {
     "name": "stderr",
     "output_type": "stream",
     "text": [
      "100%|██████████| 1/1 [00:16<00:00, 16.05s/it]\n",
      "/Users/harryshaw/PycharmProjects/geometric-gnn-dojo/venv/lib/python3.9/site-packages/torch/jit/_check.py:181: UserWarning: The TorchScript type system doesn't support instance-level annotations on empty non-base types in `__init__`. Instead, either 1) use a type annotation in the class body, or 2) wrap the type in `torch.jit.Attribute`.\n",
      "  warnings.warn(\"The TorchScript type system doesn't support \"\n"
     ]
    },
    {
     "name": "stdout",
     "output_type": "stream",
     "text": [
      "\n",
      "Done! Averaged over 1 runs: \n",
      " - Training time: 16.04s ± 0.00. \n",
      " - Best validation accuracy: 100.000 ± 0.000. \n",
      "- Test accuracy: 100.0 ± 0.0. \n",
      "\n",
      "3 fold symmetry:\n",
      "Running experiment for MACEModel (cpu).\n"
     ]
    },
    {
     "name": "stderr",
     "output_type": "stream",
     "text": [
      "100%|██████████| 1/1 [00:15<00:00, 15.84s/it]\n",
      "/Users/harryshaw/PycharmProjects/geometric-gnn-dojo/venv/lib/python3.9/site-packages/torch/jit/_check.py:181: UserWarning: The TorchScript type system doesn't support instance-level annotations on empty non-base types in `__init__`. Instead, either 1) use a type annotation in the class body, or 2) wrap the type in `torch.jit.Attribute`.\n",
      "  warnings.warn(\"The TorchScript type system doesn't support \"\n"
     ]
    },
    {
     "name": "stdout",
     "output_type": "stream",
     "text": [
      "\n",
      "Done! Averaged over 1 runs: \n",
      " - Training time: 15.84s ± 0.00. \n",
      " - Best validation accuracy: 50.000 ± 0.000. \n",
      "- Test accuracy: 50.0 ± 0.0. \n",
      "\n",
      "5 fold symmetry:\n",
      "Running experiment for MACEModel (cpu).\n"
     ]
    },
    {
     "name": "stderr",
     "output_type": "stream",
     "text": [
      "100%|██████████| 1/1 [00:17<00:00, 17.89s/it]\n",
      "/Users/harryshaw/PycharmProjects/geometric-gnn-dojo/venv/lib/python3.9/site-packages/torch/jit/_check.py:181: UserWarning: The TorchScript type system doesn't support instance-level annotations on empty non-base types in `__init__`. Instead, either 1) use a type annotation in the class body, or 2) wrap the type in `torch.jit.Attribute`.\n",
      "  warnings.warn(\"The TorchScript type system doesn't support \"\n"
     ]
    },
    {
     "name": "stdout",
     "output_type": "stream",
     "text": [
      "\n",
      "Done! Averaged over 1 runs: \n",
      " - Training time: 17.89s ± 0.00. \n",
      " - Best validation accuracy: 50.000 ± 0.000. \n",
      "- Test accuracy: 50.0 ± 0.0. \n",
      "\n",
      "10 fold symmetry:\n",
      "Running experiment for MACEModel (cpu).\n"
     ]
    },
    {
     "name": "stderr",
     "output_type": "stream",
     "text": [
      "100%|██████████| 1/1 [00:17<00:00, 17.42s/it]"
     ]
    },
    {
     "name": "stdout",
     "output_type": "stream",
     "text": [
      "\n",
      "Done! Averaged over 1 runs: \n",
      " - Training time: 17.42s ± 0.00. \n",
      " - Best validation accuracy: 50.000 ± 0.000. \n",
      "- Test accuracy: 50.0 ± 0.0. \n",
      "\n"
     ]
    },
    {
     "name": "stderr",
     "output_type": "stream",
     "text": [
      "\n"
     ]
    }
   ],
   "source": [
    "# now set n_epochs=500 i.e. enough time to learn\n",
    "n_epochs = 1000\n",
    "max_ell = 3 # i.e. should get 100% on 2,3 and 50% on 5,10\n",
    "nu_max = 2\n",
    "n_layers=1\n",
    "\n",
    "for fold in [2,3,5,10]:\n",
    "\n",
    "    dataset = create_rotsym_envs(fold)\n",
    "    dataloader = DataLoader(dataset, batch_size=1, shuffle=True)\n",
    "    val_loader = DataLoader(dataset, batch_size=1, shuffle=False)\n",
    "    test_loader = DataLoader(dataset, batch_size=1, shuffle=False)\n",
    "\n",
    "    mace_model = MACEModel(scalar_pred=False, correlation=nu_max, num_layers=n_layers, out_dim=2, max_ell=max_ell, emb_dim=3)\n",
    "\n",
    "    print(f'{fold} fold symmetry:')\n",
    "\n",
    "    best_val_acc, test_acc, train_time = run_experiment(\n",
    "        mace_model,\n",
    "        dataloader,\n",
    "        val_loader,\n",
    "        test_loader,\n",
    "        n_epochs=n_epochs,\n",
    "        n_times=1,\n",
    "        device=device,\n",
    "        verbose=False\n",
    "    )"
   ],
   "metadata": {
    "collapsed": false
   }
  },
  {
   "cell_type": "code",
   "execution_count": null,
   "outputs": [],
   "source": [],
   "metadata": {
    "collapsed": false
   }
  }
 ],
 "metadata": {
  "kernelspec": {
   "display_name": "Python 3",
   "language": "python",
   "name": "python3"
  },
  "language_info": {
   "codemirror_mode": {
    "name": "ipython",
    "version": 2
   },
   "file_extension": ".py",
   "mimetype": "text/x-python",
   "name": "python",
   "nbconvert_exporter": "python",
   "pygments_lexer": "ipython2",
   "version": "2.7.6"
  }
 },
 "nbformat": 4,
 "nbformat_minor": 0
}
