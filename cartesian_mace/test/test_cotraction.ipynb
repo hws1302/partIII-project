{
 "cells": [
  {
   "cell_type": "code",
   "execution_count": 2,
   "metadata": {
    "collapsed": true
   },
   "outputs": [],
   "source": [
    "import torch\n",
    "\n",
    "from cartesian_mace.modules.tensor_contraction_block import CartesianContraction\n",
    "from cartesian_mace.utils.cartesian_contractions import pick_pairs, count_contractions"
   ]
  },
  {
   "cell_type": "code",
   "execution_count": 13,
   "outputs": [
    {
     "name": "stdout",
     "output_type": "stream",
     "text": [
      "True\n",
      "True\n",
      "True\n"
     ]
    }
   ],
   "source": [
    "ns = torch.arange(0, 10)\n",
    "ks = torch.arange(0, 3)\n",
    "\n",
    "for n, k in zip(ns, ks):\n",
    "    print(len(list(pick_pairs(n_indices=n, n_contractions=k))) == count_contractions(n=n, n_contractions=k))"
   ],
   "metadata": {
    "collapsed": false
   }
  },
  {
   "cell_type": "code",
   "execution_count": 16,
   "outputs": [],
   "source": [
    "con = CartesianContraction(\n",
    "    n_indices=4,\n",
    "    c_out=2,\n",
    "    dim=3,\n",
    "    n_channels=1,\n",
    "    n_extra_dim=0,\n",
    "    split=[2,2],\n",
    ")"
   ],
   "metadata": {
    "collapsed": false
   }
  },
  {
   "cell_type": "code",
   "execution_count": 21,
   "outputs": [
    {
     "data": {
      "text/plain": "True"
     },
     "execution_count": 21,
     "metadata": {},
     "output_type": "execute_result"
    }
   ],
   "source": [
    "x = y = torch.randn(3, 3)\n",
    "len(con([x,y])) == count_contractions(n=4,n_contractions=1)"
   ],
   "metadata": {
    "collapsed": false
   }
  },
  {
   "cell_type": "code",
   "execution_count": null,
   "outputs": [],
   "source": [
    "# this is an example of the kind of testing that was done whilst running notebooks to check that our model was producing the correct number of combinations"
   ],
   "metadata": {
    "collapsed": false
   }
  }
 ],
 "metadata": {
  "kernelspec": {
   "display_name": "Python 3",
   "language": "python",
   "name": "python3"
  },
  "language_info": {
   "codemirror_mode": {
    "name": "ipython",
    "version": 2
   },
   "file_extension": ".py",
   "mimetype": "text/x-python",
   "name": "python",
   "nbconvert_exporter": "python",
   "pygments_lexer": "ipython2",
   "version": "2.7.6"
  }
 },
 "nbformat": 4,
 "nbformat_minor": 0
}
