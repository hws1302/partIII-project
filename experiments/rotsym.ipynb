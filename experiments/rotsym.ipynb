{
 "cells": [
  {
   "attachments": {},
   "cell_type": "markdown",
   "metadata": {},
   "source": [
    "# Identifying neighbourhood orientation: rotationally symmetric structures\n",
    "\n",
    "*Background:*\n",
    "Rotationally equivariant geometric GNNs aggregate local geometric information via summing together the neighbourhood geometric features, which are either **cartesian vectors** or **higher order spherical tensors**. \n",
    "The ideal geometric GNN would injectively aggregate local geometric infromation to perfectly identify neighbourhood identities, orientations, etc.\n",
    "In practice, the choice of basis (cartesian vs. spherical) comes with tradeoffs between tractability and empirical performance.\n",
    "\n",
    "*Experiment:*\n",
    "In this notebook, we study how rotational symmetries interact with tensor order in equivariant GNNs. \n",
    "We evaluate equivariant layers on their ability to distinguish the orientation of **structures with rotational symmetry**. \n",
    "An [$L$-fold symmetric structure](https://en.wikipedia.org/wiki/Rotational_symmetry) does not change when rotated by an angle $\\frac{2\\pi}{L}$ around a point (in 2D) or axis (3D).\n",
    "We consider two *distinct* rotated versions of each $L$-fold symmetric structure and train single layer equivariant GNNs to classify the two orientations using the updated geometric features.\n",
    "\n",
    "![Rotationally symmetric structures](fig/rotsym.png)\n",
    "\n",
    "*Result:*\n",
    "- **We find that layers using order $L$ tensors are unable to identify the orientation of structures with rotation symmetry higher than $L$-fold.** This observation may be attributed to **spherical harmonics**, which are used as the underlying orthonormal basis and are rotationally symmetric themselves.\n",
    "- Layers such as E-GNN and GVP-GNN using **cartesian vectors** (corresponding to tensor order 1) are popular as working with higher order tensors can be computationally intractable for many applications. However, E-GNN and GVP-GNN are particularly poor at disciminating orientation of rotationally symmetric structures. "
   ]
  },
  {
   "cell_type": "code",
   "execution_count": 76,
   "metadata": {},
   "outputs": [
    {
     "name": "stdout",
     "output_type": "stream",
     "text": [
      "The autoreload extension is already loaded. To reload it, use:\n",
      "  %reload_ext autoreload\n",
      "PyTorch version 1.13.1\n",
      "PyG version 2.0.3\n",
      "e3nn version 0.5.1\n",
      "Using device: cpu\n"
     ]
    }
   ],
   "source": [
    "%load_ext autoreload\n",
    "%autoreload 2\n",
    "\n",
    "import sys\n",
    "sys.path.append('../')\n",
    "\n",
    "import random\n",
    "import math\n",
    "import numpy as np\n",
    "import torch\n",
    "from torch.nn import functional as F\n",
    "import torch_geometric\n",
    "from torch_geometric.data import Data, Batch\n",
    "from torch_geometric.loader import DataLoader\n",
    "from torch_geometric.utils import is_undirected, to_undirected, remove_self_loops, to_dense_adj, dense_to_sparse\n",
    "import e3nn\n",
    "from e3nn import o3\n",
    "from functools import partial\n",
    "from typing import Optional\n",
    "\n",
    "print(\"PyTorch version {}\".format(torch.__version__))\n",
    "print(\"PyG version {}\".format(torch_geometric.__version__))\n",
    "print(\"e3nn version {}\".format(e3nn.__version__))\n",
    "\n",
    "from src.utils.plot_utils import plot_2d, plot_3d\n",
    "from src.utils.train_utils import run_experiment\n",
    "from src.models import MPNNModel, EGNNModel, GVPGNNModel, TFNModel, SchNetModel, DimeNetPPModel, MACEModel\n",
    "from cartesian_mace.models.model import CartesianMACE\n",
    "\n",
    "# Check PyTorch has access to MPS (Metal Performance Shader, Apple's GPU architecture)\n",
    "# print(f\"Is MPS (Metal Performance Shader) built? {torch.backends.mps.is_built()}\")\n",
    "# print(f\"Is MPS available? {torch.backends.mps.is_available()}\")\n",
    "\n",
    "# Set the device\n",
    "device = torch.device('cuda' if torch.cuda.is_available() else 'cpu')\n",
    "# device = torch.device(\"mps\" if torch.backends.mps.is_available() else \"cpu\")\n",
    "# device = torch.device(\"cpu\")\n",
    "print(f\"Using device: {device}\")"
   ]
  },
  {
   "cell_type": "code",
   "execution_count": 68,
   "metadata": {},
   "outputs": [],
   "source": [
    "def create_rotsym_envs(fold=3):\n",
    "    dataset = []\n",
    "\n",
    "    # Environment 0\n",
    "    atoms = torch.LongTensor([ 0 ] + [ 0 ] * fold)\n",
    "    edge_index = torch.LongTensor( [ [0] * fold, [i for i in range(1, fold+1)] ] )\n",
    "    x = torch.Tensor([1,0,0])\n",
    "    pos = [\n",
    "        torch.Tensor([0,0,0]),  # origin\n",
    "        x,   # first spoke \n",
    "    ]\n",
    "    for count in range(1, fold):\n",
    "        R = o3.matrix_z(torch.Tensor([2*math.pi/fold * count])).squeeze(0)\n",
    "        pos.append(x @ R.T)\n",
    "    pos = torch.stack(pos)\n",
    "    y = torch.LongTensor([0])  # Label 0\n",
    "    data1 = Data(atoms=atoms, edge_index=edge_index, pos=pos, y=y)\n",
    "    data1.edge_index = to_undirected(data1.edge_index)\n",
    "    dataset.append(data1)\n",
    "    \n",
    "    # Environment 1\n",
    "    q = 2*math.pi/(fold + random.randint(1, fold))\n",
    "    assert q < 2*math.pi/fold\n",
    "    Q = o3.matrix_z(torch.Tensor([q])).squeeze(0)\n",
    "    pos = pos @ Q.T\n",
    "    y = torch.LongTensor([1])  # Label 1\n",
    "    data2 = Data(atoms=atoms, edge_index=edge_index, pos=pos, y=y)\n",
    "    data2.edge_index = to_undirected(data2.edge_index)\n",
    "    dataset.append(data2)\n",
    "\n",
    "    for data in dataset:\n",
    "        data.to(device)\n",
    "    \n",
    "    return dataset"
   ]
  },
  {
   "cell_type": "code",
   "execution_count": 114,
   "outputs": [],
   "source": [
    "def run_rotsym(model_name: str, max_ell: int, fold: int, n_epochs: Optional[int] = 100, n_times: Optional[int] = 3) -> None:\n",
    "\n",
    "    dataset = create_rotsym_envs(fold)\n",
    "    # for\n",
    "    # 2d(data, lim=1)\n",
    "\n",
    "    # Create dataloaders\n",
    "    dataloader = DataLoader(dataset, batch_size=1, shuffle=True)\n",
    "    val_loader = DataLoader(dataset, batch_size=1, shuffle=False)\n",
    "    test_loader = DataLoader(dataset, batch_size=1, shuffle=False)\n",
    "\n",
    "    model = {\n",
    "    \"mpnn\": MPNNModel,\n",
    "    \"schnet\": SchNetModel,\n",
    "    \"dimenet\": DimeNetPPModel,\n",
    "    \"egnn\": EGNNModel,\n",
    "    \"gvp\": GVPGNNModel,\n",
    "    \"tfn\": partial(TFNModel, max_ell=max_ell, scalar_pred=False),\n",
    "    \"mace\": partial(MACEModel, max_ell=max_ell, correlation=correlation, scalar_pred=False),\n",
    "    \"cmace\": partial(CartesianMACE, self_tp_rank_max=max_ell, basis_rank_max=max_ell, feature_rank_max=max_ell, nu_max=2)\n",
    "    }[model_name](num_layers=1, in_dim=2, out_dim=2)\n",
    "\n",
    "    best_val_acc, test_acc, train_time = run_experiment(\n",
    "        model,\n",
    "        dataloader,\n",
    "        val_loader,\n",
    "        test_loader,\n",
    "        n_epochs=n_epochs,\n",
    "        n_times=n_times,\n",
    "        device=device,\n",
    "        verbose=False\n",
    "    )"
   ],
   "metadata": {
    "collapsed": false
   }
  },
  {
   "cell_type": "code",
   "execution_count": 115,
   "outputs": [
    {
     "name": "stdout",
     "output_type": "stream",
     "text": [
      "Running experiment for CartesianMACE (cpu).\n"
     ]
    },
    {
     "name": "stderr",
     "output_type": "stream",
     "text": [
      "100%|██████████| 1000/1000 [00:06<00:00, 149.33it/s]"
     ]
    },
    {
     "name": "stdout",
     "output_type": "stream",
     "text": [
      "\n",
      "Done! Averaged over 1 runs: \n",
      " - Training time: 6.70s ± 0.00. \n",
      " - Best validation accuracy: 50.000 ± 0.000. \n",
      "- Test accuracy: 50.0 ± 0.0. \n",
      "\n"
     ]
    },
    {
     "name": "stderr",
     "output_type": "stream",
     "text": [
      "\n"
     ]
    }
   ],
   "source": [
    "max_ell = 1\n",
    "fold = 2\n",
    "run_rotsym(\"cmace\", max_ell, fold=fold, n_epochs=1000,n_times=1)"
   ],
   "metadata": {
    "collapsed": false
   }
  },
  {
   "cell_type": "code",
   "execution_count": 59,
   "outputs": [
    {
     "name": "stdout",
     "output_type": "stream",
     "text": [
      "Running experiment for CartesianMACE (cpu).\n"
     ]
    },
    {
     "name": "stderr",
     "output_type": "stream",
     "text": [
      "100%|██████████| 1000/1000 [00:07<00:00, 137.51it/s]"
     ]
    },
    {
     "name": "stdout",
     "output_type": "stream",
     "text": [
      "\n",
      "Done! Averaged over 1 runs: \n",
      " - Training time: 7.27s ± 0.00. \n",
      " - Best validation accuracy: 50.000 ± 0.000. \n",
      "- Test accuracy: 50.0 ± 0.0. \n",
      "\n"
     ]
    },
    {
     "name": "stderr",
     "output_type": "stream",
     "text": [
      "\n"
     ]
    }
   ],
   "source": [
    "max_ell = 1\n",
    "fold = 3\n",
    "run_rotsym(\"cmace\", max_ell, fold=fold, n_epochs=1000,n_times=1)"
   ],
   "metadata": {
    "collapsed": false
   }
  },
  {
   "cell_type": "code",
   "execution_count": 60,
   "outputs": [
    {
     "name": "stdout",
     "output_type": "stream",
     "text": [
      "Running experiment for CartesianMACE (cpu).\n"
     ]
    },
    {
     "name": "stderr",
     "output_type": "stream",
     "text": [
      "100%|██████████| 1000/1000 [00:07<00:00, 140.61it/s]"
     ]
    },
    {
     "name": "stdout",
     "output_type": "stream",
     "text": [
      "\n",
      "Done! Averaged over 1 runs: \n",
      " - Training time: 7.11s ± 0.00. \n",
      " - Best validation accuracy: 50.000 ± 0.000. \n",
      "- Test accuracy: 50.0 ± 0.0. \n",
      "\n"
     ]
    },
    {
     "name": "stderr",
     "output_type": "stream",
     "text": [
      "\n"
     ]
    }
   ],
   "source": [
    "max_ell = 1\n",
    "fold = 5\n",
    "run_rotsym(\"cmace\", max_ell, fold=fold, n_epochs=1000,n_times=1)"
   ],
   "metadata": {
    "collapsed": false
   }
  },
  {
   "cell_type": "code",
   "execution_count": 61,
   "outputs": [
    {
     "name": "stdout",
     "output_type": "stream",
     "text": [
      "Running experiment for CartesianMACE (cpu).\n"
     ]
    },
    {
     "name": "stderr",
     "output_type": "stream",
     "text": [
      "100%|██████████| 1000/1000 [00:07<00:00, 139.21it/s]"
     ]
    },
    {
     "name": "stdout",
     "output_type": "stream",
     "text": [
      "\n",
      "Done! Averaged over 1 runs: \n",
      " - Training time: 7.18s ± 0.00. \n",
      " - Best validation accuracy: 50.000 ± 0.000. \n",
      "- Test accuracy: 50.0 ± 0.0. \n",
      "\n"
     ]
    },
    {
     "name": "stderr",
     "output_type": "stream",
     "text": [
      "\n"
     ]
    }
   ],
   "source": [
    "max_ell = 1\n",
    "fold = 10\n",
    "run_rotsym(\"cmace\", max_ell, fold=fold, n_epochs=1000,n_times=1)"
   ],
   "metadata": {
    "collapsed": false
   }
  },
  {
   "cell_type": "code",
   "execution_count": 41,
   "outputs": [
    {
     "name": "stdout",
     "output_type": "stream",
     "text": [
      "Running experiment for CartesianMACE (cpu).\n"
     ]
    },
    {
     "name": "stderr",
     "output_type": "stream",
     "text": [
      "100%|██████████| 200/200 [00:03<00:00, 64.45it/s]"
     ]
    },
    {
     "name": "stdout",
     "output_type": "stream",
     "text": [
      "\n",
      "Done! Averaged over 1 runs: \n",
      " - Training time: 3.10s ± 0.00. \n",
      " - Best validation accuracy: 100.000 ± 0.000. \n",
      "- Test accuracy: 100.0 ± 0.0. \n",
      "\n"
     ]
    },
    {
     "name": "stderr",
     "output_type": "stream",
     "text": [
      "\n"
     ]
    }
   ],
   "source": [
    "max_ell = 2\n",
    "fold = 2\n",
    "run_rotsym(\"cmace\", max_ell, fold=fold, n_epochs=200,n_times=1)"
   ],
   "metadata": {
    "collapsed": false
   }
  },
  {
   "cell_type": "code",
   "execution_count": 43,
   "outputs": [
    {
     "name": "stdout",
     "output_type": "stream",
     "text": [
      "Running experiment for CartesianMACE (cpu).\n"
     ]
    },
    {
     "name": "stderr",
     "output_type": "stream",
     "text": [
      "100%|██████████| 200/200 [00:03<00:00, 58.22it/s]"
     ]
    },
    {
     "name": "stdout",
     "output_type": "stream",
     "text": [
      "\n",
      "Done! Averaged over 1 runs: \n",
      " - Training time: 3.44s ± 0.00. \n",
      " - Best validation accuracy: 50.000 ± 0.000. \n",
      "- Test accuracy: 50.0 ± 0.0. \n",
      "\n"
     ]
    },
    {
     "name": "stderr",
     "output_type": "stream",
     "text": [
      "\n"
     ]
    }
   ],
   "source": [
    "max_ell = 2\n",
    "fold = 3\n",
    "run_rotsym(\"cmace\", max_ell, fold=fold, n_epochs=200,n_times=1)"
   ],
   "metadata": {
    "collapsed": false
   }
  },
  {
   "cell_type": "code",
   "execution_count": 44,
   "outputs": [
    {
     "name": "stdout",
     "output_type": "stream",
     "text": [
      "Running experiment for CartesianMACE (cpu).\n"
     ]
    },
    {
     "name": "stderr",
     "output_type": "stream",
     "text": [
      "100%|██████████| 200/200 [00:03<00:00, 63.76it/s]"
     ]
    },
    {
     "name": "stdout",
     "output_type": "stream",
     "text": [
      "\n",
      "Done! Averaged over 1 runs: \n",
      " - Training time: 3.14s ± 0.00. \n",
      " - Best validation accuracy: 50.000 ± 0.000. \n",
      "- Test accuracy: 50.0 ± 0.0. \n",
      "\n"
     ]
    },
    {
     "name": "stderr",
     "output_type": "stream",
     "text": [
      "\n"
     ]
    }
   ],
   "source": [
    "max_ell = 2\n",
    "fold = 5\n",
    "run_rotsym(\"cmace\", max_ell, fold=fold, n_epochs=200,n_times=1)"
   ],
   "metadata": {
    "collapsed": false
   }
  },
  {
   "cell_type": "code",
   "execution_count": 45,
   "outputs": [
    {
     "name": "stdout",
     "output_type": "stream",
     "text": [
      "Running experiment for CartesianMACE (cpu).\n"
     ]
    },
    {
     "name": "stderr",
     "output_type": "stream",
     "text": [
      "100%|██████████| 200/200 [00:03<00:00, 57.56it/s]"
     ]
    },
    {
     "name": "stdout",
     "output_type": "stream",
     "text": [
      "\n",
      "Done! Averaged over 1 runs: \n",
      " - Training time: 3.48s ± 0.00. \n",
      " - Best validation accuracy: 50.000 ± 0.000. \n",
      "- Test accuracy: 50.0 ± 0.0. \n",
      "\n"
     ]
    },
    {
     "name": "stderr",
     "output_type": "stream",
     "text": [
      "\n"
     ]
    }
   ],
   "source": [
    "max_ell = 2\n",
    "fold = 10\n",
    "run_rotsym(\"cmace\", max_ell, fold=fold, n_epochs=200,n_times=1)"
   ],
   "metadata": {
    "collapsed": false
   }
  },
  {
   "cell_type": "code",
   "execution_count": 46,
   "outputs": [
    {
     "name": "stdout",
     "output_type": "stream",
     "text": [
      "Running experiment for CartesianMACE (cpu).\n"
     ]
    },
    {
     "name": "stderr",
     "output_type": "stream",
     "text": [
      "100%|██████████| 200/200 [00:14<00:00, 14.20it/s]"
     ]
    },
    {
     "name": "stdout",
     "output_type": "stream",
     "text": [
      "\n",
      "Done! Averaged over 1 runs: \n",
      " - Training time: 14.08s ± 0.00. \n",
      " - Best validation accuracy: 100.000 ± 0.000. \n",
      "- Test accuracy: 100.0 ± 0.0. \n",
      "\n"
     ]
    },
    {
     "name": "stderr",
     "output_type": "stream",
     "text": [
      "\n"
     ]
    }
   ],
   "source": [
    "max_ell = 3\n",
    "fold = 2\n",
    "run_rotsym(\"cmace\", max_ell, fold=fold, n_epochs=200,n_times=1)"
   ],
   "metadata": {
    "collapsed": false
   }
  },
  {
   "cell_type": "code",
   "execution_count": 50,
   "outputs": [
    {
     "name": "stdout",
     "output_type": "stream",
     "text": [
      "Running experiment for CartesianMACE (cpu).\n"
     ]
    },
    {
     "name": "stderr",
     "output_type": "stream",
     "text": [
      "100%|██████████| 300/300 [00:25<00:00, 11.64it/s]"
     ]
    },
    {
     "name": "stdout",
     "output_type": "stream",
     "text": [
      "\n",
      "Done! Averaged over 1 runs: \n",
      " - Training time: 25.76s ± 0.00. \n",
      " - Best validation accuracy: 100.000 ± 0.000. \n",
      "- Test accuracy: 100.0 ± 0.0. \n",
      "\n"
     ]
    },
    {
     "name": "stderr",
     "output_type": "stream",
     "text": [
      "\n"
     ]
    }
   ],
   "source": [
    "max_ell = 3\n",
    "fold = 3\n",
    "run_rotsym(\"cmace\", max_ell, fold=fold, n_epochs=300,n_times=1)"
   ],
   "metadata": {
    "collapsed": false
   }
  },
  {
   "cell_type": "code",
   "execution_count": 51,
   "outputs": [
    {
     "name": "stdout",
     "output_type": "stream",
     "text": [
      "Running experiment for CartesianMACE (cpu).\n"
     ]
    },
    {
     "name": "stderr",
     "output_type": "stream",
     "text": [
      "100%|██████████| 300/300 [00:21<00:00, 14.05it/s]"
     ]
    },
    {
     "name": "stdout",
     "output_type": "stream",
     "text": [
      "\n",
      "Done! Averaged over 1 runs: \n",
      " - Training time: 21.36s ± 0.00. \n",
      " - Best validation accuracy: 50.000 ± 0.000. \n",
      "- Test accuracy: 50.0 ± 0.0. \n",
      "\n"
     ]
    },
    {
     "name": "stderr",
     "output_type": "stream",
     "text": [
      "\n"
     ]
    }
   ],
   "source": [
    "max_ell = 3\n",
    "fold = 5\n",
    "run_rotsym(\"cmace\", max_ell, fold=fold, n_epochs=300,n_times=1)"
   ],
   "metadata": {
    "collapsed": false
   }
  },
  {
   "cell_type": "code",
   "execution_count": 52,
   "outputs": [
    {
     "name": "stdout",
     "output_type": "stream",
     "text": [
      "Running experiment for CartesianMACE (cpu).\n"
     ]
    },
    {
     "name": "stderr",
     "output_type": "stream",
     "text": [
      "100%|██████████| 300/300 [00:26<00:00, 11.27it/s]"
     ]
    },
    {
     "name": "stdout",
     "output_type": "stream",
     "text": [
      "\n",
      "Done! Averaged over 1 runs: \n",
      " - Training time: 26.61s ± 0.00. \n",
      " - Best validation accuracy: 50.000 ± 0.000. \n",
      "- Test accuracy: 50.0 ± 0.0. \n",
      "\n"
     ]
    },
    {
     "name": "stderr",
     "output_type": "stream",
     "text": [
      "\n"
     ]
    }
   ],
   "source": [
    "max_ell = 3\n",
    "fold = 10\n",
    "run_rotsym(\"cmace\", max_ell, fold=fold, n_epochs=300,n_times=1)"
   ],
   "metadata": {
    "collapsed": false
   }
  },
  {
   "cell_type": "code",
   "execution_count": 65,
   "outputs": [
    {
     "name": "stdout",
     "output_type": "stream",
     "text": [
      "Running experiment for CartesianMACE (cpu).\n"
     ]
    },
    {
     "name": "stderr",
     "output_type": "stream",
     "text": [
      "100%|██████████| 150/150 [20:46<00:00,  8.31s/it]"
     ]
    },
    {
     "name": "stdout",
     "output_type": "stream",
     "text": [
      "\n",
      "Done! Averaged over 1 runs: \n",
      " - Training time: 1246.29s ± 0.00. \n",
      " - Best validation accuracy: 100.000 ± 0.000. \n",
      "- Test accuracy: 100.0 ± 0.0. \n",
      "\n"
     ]
    },
    {
     "name": "stderr",
     "output_type": "stream",
     "text": [
      "\n"
     ]
    }
   ],
   "source": [
    "max_ell = 5\n",
    "fold = 2\n",
    "run_rotsym(\"cmace\", max_ell, fold=fold, n_epochs=150,n_times=1)"
   ],
   "metadata": {
    "collapsed": false
   }
  },
  {
   "cell_type": "code",
   "execution_count": 66,
   "outputs": [
    {
     "name": "stdout",
     "output_type": "stream",
     "text": [
      "Running experiment for CartesianMACE (cpu).\n"
     ]
    },
    {
     "name": "stderr",
     "output_type": "stream",
     "text": [
      "100%|██████████| 150/150 [25:47<00:00, 10.32s/it]"
     ]
    },
    {
     "name": "stdout",
     "output_type": "stream",
     "text": [
      "\n",
      "Done! Averaged over 1 runs: \n",
      " - Training time: 1547.40s ± 0.00. \n",
      " - Best validation accuracy: 100.000 ± 0.000. \n",
      "- Test accuracy: 100.0 ± 0.0. \n",
      "\n"
     ]
    },
    {
     "name": "stderr",
     "output_type": "stream",
     "text": [
      "\n"
     ]
    }
   ],
   "source": [
    "max_ell = 5\n",
    "fold = 3\n",
    "run_rotsym(\"cmace\", max_ell, fold=fold, n_epochs=150,n_times=1)"
   ],
   "metadata": {
    "collapsed": false
   }
  },
  {
   "cell_type": "code",
   "execution_count": 71,
   "outputs": [
    {
     "name": "stdout",
     "output_type": "stream",
     "text": [
      "Running experiment for CartesianMACE (cpu).\n"
     ]
    },
    {
     "name": "stderr",
     "output_type": "stream",
     "text": [
      "100%|██████████| 150/150 [24:19<00:00,  9.73s/it]"
     ]
    },
    {
     "name": "stdout",
     "output_type": "stream",
     "text": [
      "\n",
      "Done! Averaged over 1 runs: \n",
      " - Training time: 1459.06s ± 0.00. \n",
      " - Best validation accuracy: 100.000 ± 0.000. \n",
      "- Test accuracy: 100.0 ± 0.0. \n",
      "\n"
     ]
    },
    {
     "name": "stderr",
     "output_type": "stream",
     "text": [
      "\n"
     ]
    }
   ],
   "source": [
    "max_ell = 5\n",
    "fold = 5\n",
    "run_rotsym(\"cmace\", max_ell, fold=fold, n_epochs=150,n_times=1)"
   ],
   "metadata": {
    "collapsed": false
   }
  },
  {
   "cell_type": "code",
   "execution_count": 72,
   "outputs": [
    {
     "name": "stdout",
     "output_type": "stream",
     "text": [
      "Running experiment for CartesianMACE (cpu).\n"
     ]
    },
    {
     "name": "stderr",
     "output_type": "stream",
     "text": [
      "100%|██████████| 150/150 [28:40<00:00, 11.47s/it]"
     ]
    },
    {
     "name": "stdout",
     "output_type": "stream",
     "text": [
      "\n",
      "Done! Averaged over 1 runs: \n",
      " - Training time: 1720.04s ± 0.00. \n",
      " - Best validation accuracy: 50.000 ± 0.000. \n",
      "- Test accuracy: 50.0 ± 0.0. \n",
      "\n"
     ]
    },
    {
     "name": "stderr",
     "output_type": "stream",
     "text": [
      "\n"
     ]
    }
   ],
   "source": [
    "max_ell = 5\n",
    "fold = 10\n",
    "run_rotsym(\"cmace\", max_ell, fold=fold, n_epochs=150,n_times=1)"
   ],
   "metadata": {
    "collapsed": false
   }
  },
  {
   "cell_type": "code",
   "execution_count": null,
   "outputs": [],
   "source": [
    "max_ell = 10\n",
    "fold = 3\n",
    "run_rotsym(\"cmace\", max_ell, fold=fold, n_epochs=150,n_times=1)"
   ],
   "metadata": {
    "collapsed": false
   }
  },
  {
   "cell_type": "code",
   "execution_count": null,
   "outputs": [],
   "source": [
    "max_ell = 10\n",
    "fold = 5\n",
    "run_rotsym(\"cmace\", max_ell, fold=fold, n_epochs=150,n_times=1)"
   ],
   "metadata": {
    "collapsed": false
   }
  },
  {
   "cell_type": "code",
   "execution_count": 86,
   "outputs": [
    {
     "name": "stdout",
     "output_type": "stream",
     "text": [
      "Running experiment for CartesianMACE (cpu).\n"
     ]
    },
    {
     "name": "stderr",
     "output_type": "stream",
     "text": [
      "100%|██████████| 150/150 [01:32<00:00,  1.61it/s]"
     ]
    },
    {
     "name": "stdout",
     "output_type": "stream",
     "text": [
      "\n",
      "Done! Averaged over 1 runs: \n",
      " - Training time: 92.95s ± 0.00. \n",
      " - Best validation accuracy: 100.000 ± 0.000. \n",
      "- Test accuracy: 100.0 ± 0.0. \n",
      "\n"
     ]
    },
    {
     "name": "stderr",
     "output_type": "stream",
     "text": [
      "\n"
     ]
    }
   ],
   "source": [
    "max_ell = 10\n",
    "fold = 2\n",
    "run_rotsym(\"cmace\", max_ell, fold=fold, n_epochs=150,n_times=1)"
   ],
   "metadata": {
    "collapsed": false
   }
  },
  {
   "cell_type": "code",
   "execution_count": 103,
   "outputs": [
    {
     "name": "stdout",
     "output_type": "stream",
     "text": [
      "Running experiment for CartesianMACE (cpu).\n"
     ]
    },
    {
     "name": "stderr",
     "output_type": "stream",
     "text": [
      "100%|██████████| 150/150 [10:02<00:00,  4.02s/it]"
     ]
    },
    {
     "name": "stdout",
     "output_type": "stream",
     "text": [
      "\n",
      "Done! Averaged over 1 runs: \n",
      " - Training time: 602.54s ± 0.00. \n",
      " - Best validation accuracy: 100.000 ± 0.000. \n",
      "- Test accuracy: 100.0 ± 0.0. \n",
      "\n"
     ]
    },
    {
     "name": "stderr",
     "output_type": "stream",
     "text": [
      "\n"
     ]
    }
   ],
   "source": [
    "max_ell = 10\n",
    "fold = 3\n",
    "run_rotsym(\"cmace\", max_ell, fold=fold, n_epochs=150,n_times=1)"
   ],
   "metadata": {
    "collapsed": false
   }
  },
  {
   "cell_type": "code",
   "execution_count": 107,
   "outputs": [
    {
     "name": "stdout",
     "output_type": "stream",
     "text": [
      "Running experiment for CartesianMACE (cpu).\n"
     ]
    },
    {
     "name": "stderr",
     "output_type": "stream",
     "text": [
      "100%|██████████| 150/150 [44:23<00:00, 17.75s/it]"
     ]
    },
    {
     "name": "stdout",
     "output_type": "stream",
     "text": [
      "\n",
      "Done! Averaged over 1 runs: \n",
      " - Training time: 2663.17s ± 0.00. \n",
      " - Best validation accuracy: 100.000 ± 0.000. \n",
      "- Test accuracy: 100.0 ± 0.0. \n",
      "\n"
     ]
    },
    {
     "name": "stderr",
     "output_type": "stream",
     "text": [
      "\n"
     ]
    }
   ],
   "source": [
    "max_ell = 10\n",
    "fold = 5\n",
    "run_rotsym(\"cmace\", max_ell, fold=fold, n_epochs=150,n_times=1)"
   ],
   "metadata": {
    "collapsed": false
   }
  },
  {
   "cell_type": "code",
   "execution_count": 112,
   "outputs": [
    {
     "name": "stdout",
     "output_type": "stream",
     "text": [
      "Running experiment for CartesianMACE (cpu).\n"
     ]
    },
    {
     "name": "stderr",
     "output_type": "stream",
     "text": [
      "100%|██████████| 150/150 [1:39:04<00:00, 39.63s/it]"
     ]
    },
    {
     "name": "stdout",
     "output_type": "stream",
     "text": [
      "\n",
      "Done! Averaged over 1 runs: \n",
      " - Training time: 5944.13s ± 0.00. \n",
      " - Best validation accuracy: 100.000 ± 0.000. \n",
      "- Test accuracy: 100.0 ± 0.0. \n",
      "\n"
     ]
    },
    {
     "name": "stderr",
     "output_type": "stream",
     "text": [
      "\n"
     ]
    }
   ],
   "source": [
    "max_ell = 10\n",
    "fold = 10\n",
    "run_rotsym(\"cmace\", max_ell, fold=fold, n_epochs=150,n_times=1)"
   ],
   "metadata": {
    "collapsed": false
   }
  },
  {
   "cell_type": "code",
   "execution_count": null,
   "outputs": [],
   "source": [],
   "metadata": {
    "collapsed": false
   }
  }
 ],
 "metadata": {
  "kernelspec": {
   "display_name": "Python 3",
   "language": "python",
   "name": "python3"
  },
  "language_info": {
   "codemirror_mode": {
    "name": "ipython",
    "version": 3
   },
   "file_extension": ".py",
   "mimetype": "text/x-python",
   "name": "python",
   "nbconvert_exporter": "python",
   "pygments_lexer": "ipython3",
   "version": "3.8.13"
  },
  "orig_nbformat": 4,
  "vscode": {
   "interpreter": {
    "hash": "94aa676993820a604ac86f7af94f5432e989a749d5dd43e18f9507de2e8c2897"
   }
  }
 },
 "nbformat": 4,
 "nbformat_minor": 2
}
