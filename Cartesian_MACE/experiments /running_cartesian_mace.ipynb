{
 "cells": [
  {
   "cell_type": "code",
   "execution_count": 1,
   "outputs": [],
   "source": [
    "%load_ext autoreload\n",
    "%autoreload 2\n",
    "\n",
    "from Cartesian_MACE.models.model import CartesianMACE\n",
    "from Cartesian_MACE.utils.cartesian_contractions import create_zero_feature_tensors\n",
    "from typing import List\n",
    "from torch.nn import Embedding\n",
    "\n",
    "import torch\n"
   ],
   "metadata": {
    "collapsed": false
   }
  },
  {
   "cell_type": "code",
   "execution_count": 3,
   "outputs": [],
   "source": [
    "# first do this for a single layer\n",
    "# easier this way!\n",
    "torch.manual_seed(0)\n",
    "dim = 2  # start off in 2D to keep things simple\n",
    "n_neighbours = 5\n",
    "n_channels = 3\n",
    "feature_rank_max = 2\n",
    "basis_rank_max = 2\n",
    "self_tp_rank_max = 2  # max rank of self TP\n",
    "nu_max = 4\n",
    "c_out_max = 2"
   ],
   "metadata": {
    "collapsed": false
   }
  },
  {
   "cell_type": "code",
   "execution_count": 4,
   "outputs": [
    {
     "name": "stdout",
     "output_type": "stream",
     "text": [
      "[Data(edge_index=[2, 5], y=[1], pos=[6, 2], atoms=[6, 1]), Data(edge_index=[2, 5], y=[1], pos=[6, 2], atoms=[6, 1]), Data(edge_index=[2, 5], y=[1], pos=[6, 2], atoms=[6, 1])]\n"
     ]
    },
    {
     "data": {
      "text/plain": "<Figure size 640x480 with 1 Axes>",
      "image/png": "[encoded data removed]"
     },
     "metadata": {},
     "output_type": "display_data"
    }
   ],
   "source": [
    "# create dataset that is the same as my current data just in the pytroch geometric way!\n",
    "from torch_geometric.data import Data, Batch\n",
    "from torch_geometric.utils import is_undirected, to_undirected\n",
    "from torch_geometric.loader import DataLoader\n",
    "from src.utils.plot_utils import plot_2d\n",
    "\n",
    "def create_dataset(size: int, n_neighbours: int) -> List[Data]:\n",
    "    dataset = []\n",
    "\n",
    "    for _ in range(size):\n",
    "        atoms= torch.zeros(n_neighbours+1,1).long()\n",
    "        edge_index = torch.LongTensor([[0] * n_neighbours, [i for i in range(1,n_neighbours + 1)]])\n",
    "        pos_central = torch.zeros(1,2)\n",
    "        pos_neighbours =  3 * torch.randn(n_neighbours,dim)\n",
    "        pos = torch.cat((pos_central, pos_neighbours))\n",
    "        y = torch.Tensor([0]) # label\n",
    "\n",
    "        data = Data(atoms=atoms, edge_index=edge_index, pos=pos, y=y)\n",
    "\n",
    "        dataset.append(data)\n",
    "\n",
    "    return dataset\n",
    "\n",
    "\n",
    "dataset = create_dataset(size=3,n_neighbours=5)\n",
    "\n",
    "print(dataset)\n",
    "# need to add this back in once I find out how\n",
    "# data.edge_index = to_undirected(data.edge_index)\n",
    "# print(data)\n",
    "\n",
    "plot_2d(dataset[0])"
   ],
   "metadata": {
    "collapsed": false
   }
  },
  {
   "cell_type": "code",
   "execution_count": 5,
   "outputs": [],
   "source": [
    "# figure out how the embedding works\n",
    "# emb_in Embedding(in_dim, emb_dim)\n",
    "\n",
    "h, h_central = create_zero_feature_tensors(feature_rank_max=feature_rank_max,n_neighbours=n_neighbours,n_channels=n_channels,dim=dim)\n",
    "\n",
    "# simulate late on layer include the others\n",
    "h[0] += torch.randn(n_neighbours, n_channels, 1)\n",
    "# h[1] += torch.randn(n_neighbours, n_channels, 2)\n",
    "# h[2] += torch.randn(n_neighbours, n_channels, 2,2)\n",
    "h_central[0] += torch.randn(n_channels, 1)"
   ],
   "metadata": {
    "collapsed": false
   }
  },
  {
   "cell_type": "code",
   "execution_count": 6,
   "outputs": [
    {
     "data": {
      "text/plain": "tensor([[-26.6607],\n        [-67.0594],\n        [-99.8695]], grad_fn=<AsStridedBackward0>)"
     },
     "execution_count": 6,
     "metadata": {},
     "output_type": "execute_result"
    }
   ],
   "source": [
    "# instantiate the model\n",
    "cartesian_mace = CartesianMACE(\n",
    "    n_channels=n_channels,\n",
    "    n_neighbours=n_neighbours,\n",
    "    self_tp_rank_max=self_tp_rank_max,\n",
    "    basis_rank_max=basis_rank_max,\n",
    "    dim=dim,\n",
    "    n_layers=5,\n",
    "    nu_max=nu_max,\n",
    "    feature_rank_max=feature_rank_max,\n",
    ")\n",
    "\n",
    "# do a forward pass\n",
    "cartesian_mace(data=dataset[0])"
   ],
   "metadata": {
    "collapsed": false
   }
  },
  {
   "cell_type": "code",
   "execution_count": 7,
   "outputs": [
    {
     "data": {
      "text/plain": "([torch.Size([5, 3, 1]), torch.Size([5, 3, 2]), torch.Size([5, 3, 2, 2])],\n [torch.Size([3, 1]), torch.Size([3, 2]), torch.Size([3, 2, 2])])"
     },
     "execution_count": 7,
     "metadata": {},
     "output_type": "execute_result"
    }
   ],
   "source": [
    "# shapes are as expected\n",
    "[g.shape for g in h], [g.shape for g in h_central]"
   ],
   "metadata": {
    "collapsed": false
   }
  },
  {
   "cell_type": "code",
   "execution_count": 8,
   "outputs": [
    {
     "data": {
      "text/plain": "tensor([[ 4.1407],\n        [ 4.1030],\n        [-2.8690]], grad_fn=<AsStridedBackward0>)"
     },
     "execution_count": 8,
     "metadata": {},
     "output_type": "execute_result"
    }
   ],
   "source": [
    "cartesian_mace = CartesianMACE(\n",
    "    n_channels=n_channels,\n",
    "    n_neighbours=n_neighbours,\n",
    "    self_tp_rank_max=self_tp_rank_max,\n",
    "    basis_rank_max=basis_rank_max,\n",
    "    dim=dim,\n",
    "    n_layers=1,\n",
    "    nu_max=nu_max,\n",
    "    feature_rank_max=feature_rank_max,\n",
    ")\n",
    "\n",
    "# this becomes more important later\n",
    "dataloader = DataLoader(dataset, batch_size=1, shuffle=True)\n",
    "\n",
    "cartesian_mace(data=dataset[0])"
   ],
   "metadata": {
    "collapsed": false
   }
  },
  {
   "cell_type": "code",
   "execution_count": 9,
   "outputs": [
    {
     "data": {
      "text/plain": "CartesianMACE(\n  (emb_in): Embedding(1, 3)\n  (create_atomic_bases): ModuleList(\n    (0): AtomicBasis(\n      (contractions): ModuleDict(\n        (00:0): CartesianContraction()\n        (01:1): CartesianContraction()\n        (02:0): CartesianContraction()\n        (02:2): CartesianContraction()\n      )\n    )\n  )\n  (weighted_sums): ModuleList(\n    (0): WeightedSum(\n      (contractions): ModuleDict(\n        (0:0): CartesianContraction()\n        (1:1): CartesianContraction()\n        (2:0): CartesianContraction()\n        (2:2): CartesianContraction()\n        (00:0): CartesianContraction()\n        (01:1): CartesianContraction()\n        (02:0): CartesianContraction()\n        (02:2): CartesianContraction()\n        (11:0): CartesianContraction()\n        (11:2): CartesianContraction()\n        (12:1): CartesianContraction()\n        (22:0): CartesianContraction()\n        (22:2): CartesianContraction()\n        (000:0): CartesianContraction()\n        (001:1): CartesianContraction()\n        (002:0): CartesianContraction()\n        (002:2): CartesianContraction()\n        (011:0): CartesianContraction()\n        (011:2): CartesianContraction()\n        (012:1): CartesianContraction()\n        (111:1): CartesianContraction()\n        (022:0): CartesianContraction()\n        (022:2): CartesianContraction()\n        (112:0): CartesianContraction()\n        (112:2): CartesianContraction()\n        (122:1): CartesianContraction()\n        (222:0): CartesianContraction()\n        (222:2): CartesianContraction()\n        (0000:0): CartesianContraction()\n        (0001:1): CartesianContraction()\n        (0002:0): CartesianContraction()\n        (0002:2): CartesianContraction()\n        (0011:0): CartesianContraction()\n        (0011:2): CartesianContraction()\n        (0012:1): CartesianContraction()\n        (0111:1): CartesianContraction()\n        (0022:0): CartesianContraction()\n        (0022:2): CartesianContraction()\n        (0112:0): CartesianContraction()\n        (0112:2): CartesianContraction()\n        (1111:0): CartesianContraction()\n        (1111:2): CartesianContraction()\n        (0122:1): CartesianContraction()\n        (1112:1): CartesianContraction()\n        (0222:0): CartesianContraction()\n        (0222:2): CartesianContraction()\n        (1122:0): CartesianContraction()\n        (1122:2): CartesianContraction()\n        (1222:1): CartesianContraction()\n        (2222:0): CartesianContraction()\n        (2222:2): CartesianContraction()\n      )\n      (channel_mixing): ParameterDict(\n          (0): Parameter containing: [torch.FloatTensor of size 1x3x3]\n          (1): Parameter containing: [torch.FloatTensor of size 1x3x3]\n          (2): Parameter containing: [torch.FloatTensor of size 1x3x3]\n          (00): Parameter containing: [torch.FloatTensor of size 2x3x3]\n          (01): Parameter containing: [torch.FloatTensor of size 2x3x3]\n          (02): Parameter containing: [torch.FloatTensor of size 2x3x3]\n          (11): Parameter containing: [torch.FloatTensor of size 2x3x3]\n          (12): Parameter containing: [torch.FloatTensor of size 2x3x3]\n          (22): Parameter containing: [torch.FloatTensor of size 2x3x3]\n          (000): Parameter containing: [torch.FloatTensor of size 3x3x3]\n          (001): Parameter containing: [torch.FloatTensor of size 3x3x3]\n          (002): Parameter containing: [torch.FloatTensor of size 3x3x3]\n          (011): Parameter containing: [torch.FloatTensor of size 3x3x3]\n          (012): Parameter containing: [torch.FloatTensor of size 3x3x3]\n          (111): Parameter containing: [torch.FloatTensor of size 3x3x3]\n          (022): Parameter containing: [torch.FloatTensor of size 3x3x3]\n          (112): Parameter containing: [torch.FloatTensor of size 3x3x3]\n          (122): Parameter containing: [torch.FloatTensor of size 3x3x3]\n          (222): Parameter containing: [torch.FloatTensor of size 3x3x3]\n          (0000): Parameter containing: [torch.FloatTensor of size 4x3x3]\n          (0001): Parameter containing: [torch.FloatTensor of size 4x3x3]\n          (0002): Parameter containing: [torch.FloatTensor of size 4x3x3]\n          (0011): Parameter containing: [torch.FloatTensor of size 4x3x3]\n          (0012): Parameter containing: [torch.FloatTensor of size 4x3x3]\n          (0111): Parameter containing: [torch.FloatTensor of size 4x3x3]\n          (0022): Parameter containing: [torch.FloatTensor of size 4x3x3]\n          (0112): Parameter containing: [torch.FloatTensor of size 4x3x3]\n          (1111): Parameter containing: [torch.FloatTensor of size 4x3x3]\n          (0122): Parameter containing: [torch.FloatTensor of size 4x3x3]\n          (1112): Parameter containing: [torch.FloatTensor of size 4x3x3]\n          (0222): Parameter containing: [torch.FloatTensor of size 4x3x3]\n          (1122): Parameter containing: [torch.FloatTensor of size 4x3x3]\n          (1222): Parameter containing: [torch.FloatTensor of size 4x3x3]\n          (2222): Parameter containing: [torch.FloatTensor of size 4x3x3]\n      )\n    )\n  )\n  (channel_weights): ParameterList(  (0): Parameter containing: [torch.float32 of size 3x3x3])\n  (message_weights): ParameterList(  (0): Parameter containing: [torch.float32 of size 3x3x3])\n)"
     },
     "execution_count": 9,
     "metadata": {},
     "output_type": "execute_result"
    }
   ],
   "source": [
    "cartesian_mace.eval()"
   ],
   "metadata": {
    "collapsed": false
   }
  },
  {
   "cell_type": "code",
   "execution_count": null,
   "outputs": [],
   "source": [],
   "metadata": {
    "collapsed": false
   }
  }
 ],
 "metadata": {
  "kernelspec": {
   "display_name": "Python 3",
   "language": "python",
   "name": "python3"
  },
  "language_info": {
   "codemirror_mode": {
    "name": "ipython",
    "version": 2
   },
   "file_extension": ".py",
   "mimetype": "text/x-python",
   "name": "python",
   "nbconvert_exporter": "python",
   "pygments_lexer": "ipython2",
   "version": "2.7.6"
  }
 },
 "nbformat": 4,
 "nbformat_minor": 0
}
